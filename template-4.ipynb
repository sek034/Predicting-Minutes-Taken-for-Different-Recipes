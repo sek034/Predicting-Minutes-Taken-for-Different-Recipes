{
 "cells": [
  {
   "cell_type": "markdown",
   "metadata": {},
   "source": [
    "# Predicting Minutes Taken for Different Recipes\n",
    "\n",
    "**Name(s)**: Bryan Cha, Chloe Kim\n",
    "\n",
    "**Website Link**: https://sek034.github.io/Predicting-Minutes-Taken-for-Different-Recipes/"
   ]
  },
  {
   "cell_type": "markdown",
   "metadata": {},
   "source": [
    "## Code"
   ]
  },
  {
   "cell_type": "code",
   "execution_count": 140,
   "metadata": {
    "ExecuteTime": {
     "end_time": "2019-10-31T23:36:28.652554Z",
     "start_time": "2019-10-31T23:36:27.180520Z"
    }
   },
   "outputs": [],
   "source": [
    "import os\n",
    "import re\n",
    "import pandas as pd\n",
    "import numpy as np\n",
    "import matplotlib.pyplot as plt\n",
    "\n",
    "from sklearn.pipeline import Pipeline\n",
    "from sklearn.compose import ColumnTransformer\n",
    "from sklearn.svm import SVR\n",
    "from sklearn.tree import DecisionTreeRegressor\n",
    "from sklearn.ensemble import RandomForestRegressor\n",
    "from sklearn.metrics import mean_absolute_error, mean_absolute_percentage_error, mean_squared_error\n",
    "from sklearn.feature_extraction.text import TfidfVectorizer\n",
    "from sklearn.model_selection import train_test_split, GridSearchCV\n",
    "from sklearn.preprocessing import FunctionTransformer, StandardScaler, MinMaxScaler\n",
    "\n",
    "import plotly.express as px\n",
    "import plotly.graph_objects as go\n",
    "from plotly.subplots import make_subplots\n",
    "pd.options.plotting.backend = 'plotly'\n"
   ]
  },
  {
   "cell_type": "markdown",
   "metadata": {},
   "source": [
    "### Framing the Problem"
   ]
  },
  {
   "cell_type": "markdown",
   "metadata": {},
   "source": [
    "#### <u>__Prediction Problem__: Predicting Minutes Taken for Different Recipes<u>"
   ]
  },
  {
   "cell_type": "markdown",
   "metadata": {},
   "source": [
    "#### How we cleaned the data:\n",
    "Since we are predicting minutes based on the different recipes, there was no need to merge the <u>recipes.csv</u> data with <u>interactions.csv</u> data, since\n",
    "that would just give us duplicate rows of the exact same recipe. <br>\n",
    "\n",
    "Data Cleaning Steps: </br>\n",
    "- Sliced out only the data that is intuitive and relevant to our predictive analysis <br>\n",
    "- While each element in the **minutes** column in <u>recipes.csv</u> is an integer, time in general\n",
    "is a continuous variable; therefore, I converted it to type ```np.float64``` to better aid my prediction \n",
    "problem.\n",
    "- The table below shows the resulting columns that I am using for my predictive analysis: <br>\n",
    "\n",
    "|Column Name     |Description                                     |dtype         |\n",
    "|----------------|------------------------------------------------|--------------|\n",
    "|name            |Name of each Recipe                             |```object```  |\n",
    "|n_steps         |# of steps involved in making recipe            |```int64```   |\n",
    "|steps           |Description of steps involved in making the food|```object```  |\n",
    "|n_ingredients   |# of ingredients involved in making the food    |```int64```   |\n",
    "|ingredients     |Ingredients involved in making the food         |```object```  | \n",
    "|minutes         |Time taken to carry out the recipe              |```float64``` | \n",
    "\n",
    "- Since each element in the **ingredients** and **steps** columns are a list in string format,\n",
    "I handled it by joining all the comma-separated strings into a single string so that it is possible to\n",
    "use a tdidf-vectorizer to create new features later. I also removed any extra spaces to ensure proper parsing\n",
    "and consistency. <br>\n",
    "\n",
    "This results in the following DataFrame: <br>\n",
    "|    | name                                 |   n_steps | steps                                                                                                                                                                                                                                                                                                                                                                                                                                                                                                                                                                                                                                                                                                                                                                                                                                                                                                                                                                                                                                                                                                                                                                                                                                                                                                                                           |   n_ingredients | ingredients                                                                                                                                                                                                 |   minutes |\n",
    "|---:|:-------------------------------------|----------:|:------------------------------------------------------------------------------------------------------------------------------------------------------------------------------------------------------------------------------------------------------------------------------------------------------------------------------------------------------------------------------------------------------------------------------------------------------------------------------------------------------------------------------------------------------------------------------------------------------------------------------------------------------------------------------------------------------------------------------------------------------------------------------------------------------------------------------------------------------------------------------------------------------------------------------------------------------------------------------------------------------------------------------------------------------------------------------------------------------------------------------------------------------------------------------------------------------------------------------------------------------------------------------------------------------------------------------------------------|----------------:|:------------------------------------------------------------------------------------------------------------------------------------------------------------------------------------------------------------|----------:|\n",
    "|  0 | 1 brownies in the world    best ever |        10 | heat the oven to 350f and arrange the rack in the middle  line an 8-by-8-inch glass baking dish with aluminum foil  combine chocolate and butter in a medium saucepan and cook over medium-low heat   stirring frequently   until evenly melted  remove from heat and let cool to room temperature  combine eggs   sugar   cocoa powder   vanilla extract   espresso   and salt in a large bowl and briefly stir until just evenly incorporated  add cooled chocolate and mix until uniform in color  add flour and stir until just incorporated  transfer batter to the prepared baking dish  bake until a tester inserted in the center of the brownies comes out clean   about 25 to 30 minutes  remove from the oven and cool completely before cutting                                                                                                                                                                                                                                                                                                                                                                                                                                                                                                                                                                                     |               9 | bittersweet chocolate  unsalted butter  eggs  granulated sugar  unsweetened cocoa powder  vanilla extract  brewed espresso  kosher salt  all-purpose flour                                                  |        40 |\n",
    "|  1 | 1 in canada chocolate chip cookies   |        12 | pre-heat oven the 350 degrees f  in a mixing bowl   sift together the flours and baking powder  set aside  in another mixing bowl   blend together the sugars   margarine   and salt until light and fluffy  add the eggs   water   and vanilla to the margarine / sugar mixture and mix together until well combined  add in the flour mixture to the wet ingredients and blend until combined  scrape down the sides of the bowl and add the chocolate chips  mix until combined  scrape down the sides to the bowl again  using an ice cream scoop   scoop evenly rounded balls of dough and place of cookie sheet about 1 - 2 inches apart to allow for spreading during baking  bake for 10 - 15 minutes or until golden brown on the outside and soft & chewy in the center  serve hot and enjoy !                                                                                                                                                                                                                                                                                                                                                                                                                                                                                                                                        |              11 | white sugar  brown sugar  salt  margarine  eggs  vanilla  water  all-purpose flour  whole wheat flour  baking soda  chocolate chips                                                                         |        45 |\\n|  2 | 412 broccoli casserole               |         6 | preheat oven to 350 degrees  spray a 2 quart baking dish with cooking spray   set aside  in a large bowl mix together broccoli   soup   one cup of cheese   garlic powder   pepper   salt   milk   1 cup of french onions   and soy sauce  pour into baking dish   sprinkle remaining cheese over top  bake for 25 minutes or until cheese is lightly browned  sprinkle with rest of french fried onions and bake until onions are browned and cheese is bubbly   about 10 more minutes                                                                                                                                                                                                                                                                                                                                                                                                                                                                                                                                                                                                                                                                                                                                                                                                                                                         |               9 | frozen broccoli cuts  cream of chicken soup  sharp cheddar cheese  garlic powder  ground black pepper  salt  milk  soy sauce  french-fried onions                                                           |        40 |\\n|  3 | millionaire pound cake               |         7 | freheat the oven to 300 degrees  grease a 10-inch tube pan with butter   dust the bottom and sides with flour   and set aside  in a large mixing bowl   cream the butter and sugar with an electric mixer and add the eggs one at a time   beating after each addition  alternately add the flour and milk   stirring till the batter is smooth  add the two extracts and stir till well blended  scrape the batter into the prepared pan and bake till a cake tester or knife blade inserted in the center comes out clean   about 1 1 / 2 hours  cool the cake in the pan on a rack for 5 minutes   then turn it out on the rack to cool completely                                                                                                                                                                                                                                                                                                                                                                                                                                                                                                                                                                                                                                                                                           |               7 | butter  sugar  eggs  all-purpose flour  whole milk  pure vanilla extract  almond extract                                                                                                                    |       120 |\n",
    "|  4 | 2000 meatloaf                        |        17 | pan fry bacon   and set aside on a paper towel to absorb excess grease  mince yellow onion   red bell pepper   and add to your mixing bowl  chop garlic and set aside  put 1tbsp olive oil into a saut pan   along with chopped garlic   teaspoons white pepper and a pinch of kosher salt  bring to a medium heat to sweat your garlic  preheat oven to 350f  coarsely chop your baby spinach add to your heated pan   stir frequently for approximately 5 min to wilt  add your spinach to the mixing bowl  chop your now cooled bacon   and add it to the mixing bowl  add your meatloaf mix to the bowl   with one egg and mix till thoroughly combined  add your goat cheese   one egg   1 / 8 tsp white pepper and 1 / 8 tsp of kosher salt and mix till thoroughly combined  transfer to a 9x5 meatloaf pan   and cook for 60 min or until the internal temperature is at least 160f  let stand for 5min  melt 1tbsp unsalted butter into a frying pan   and cook up to three eggs at a time  crack each egg into a separate dish   in order to prevent egg shells from reaching the pan   then add salt and pepper to taste  wait until the egg whites are firm looking   but slightly runny on top before flipping your eggs  after flipping   wait 10~20 seconds before removing each egg and placing it over your slices of meatloaf |              13 | meatloaf mixture  unsmoked bacon  goat cheese  unsalted butter  eggs  baby spinach  yellow onion  red bell pepper  simply potatoes shredded hash browns  fresh garlic  kosher salt  white pepper  olive oil |        90 |\n",
    "\n",
    "__Dependent Variable__: I chose **minutes** as the dependent variable because it is a <u>quantitative continuous</u> variable, which makes it a good target for regression. While the data seemingly only provides integers values for minutes, time is ultimately a continuous variable, which makes it more feasible to predict if converted to a floating value. In a real-world context, restaurants can use this predictive model to plan out feasible menus and individuals will be able to estimate and manage their time in the kitchen, making this predictive analysis useful in time management situations, or even for food and beverage businesses where menu planning might be required.\n",
    "\n",
    "__Evaluation Metric__: For a regression problem like mine, metrics like mean absolute error (MAE), mean squared error (MSE), and root mean squared error (RMSE) come to mind. I will be using the **Mean absoute Error**, since this metric is easy to understand and robust to outliers.\n",
    "\n",
    "__Known Information at Time of Prediction__: For predicting calories, the **n_steps** and **n_ingredients** will already be known at the time of prediction, since the ingredients themselves are already available and the number of steps have to occur before the time is calculated, which means that it is feasible to use these features for minute prediction."
   ]
  },
  {
   "cell_type": "code",
   "execution_count": 141,
   "metadata": {
    "ExecuteTime": {
     "end_time": "2019-10-31T23:36:28.657068Z",
     "start_time": "2019-10-31T23:36:28.654650Z"
    }
   },
   "outputs": [],
   "source": [
    "# TODO\n",
    "### Helper Functions\n",
    "def transform_text(df, col_names=['ingredients']):\n",
    "    ''' \n",
    "    receives an DataFrame-like object and a column name\n",
    "    and combines all the text in the given column into a single string\n",
    "    '''\n",
    "    df_copy = df.copy(deep=True)\n",
    "    for col in col_names:\n",
    "        df_copy[col] = df_copy[col].apply(lambda x: re.sub(r'\\W{2,}', \" \", ' '.join(x.lower().strip('[]').replace('\\'', \"\").split(','))))\n",
    "    \n",
    "    return df_copy\n",
    "\n",
    "def transform_calories(df):\n",
    "    ''' \n",
    "    receives an DataFrame-like object and a column name\n",
    "    and combines all the text in the given column into a single string\n",
    "    '''\n",
    "    df_copy = df.copy(deep=True)\n",
    "    df_copy['calories'] = df_copy['nutrition'].apply(lambda x: x.strip('[]').split(',')[0]).astype(np.float64)\n",
    "        \n",
    "    return df_copy.drop('nutrition', axis=1)\n",
    "\n",
    "def IQR_filtering(df):\n",
    "    df_copy = df.copy(deep=True)\n",
    "    Q1 = df['calories'].quantile(0.25)\n",
    "    Q3 = df['calories'].quantile(0.75)\n",
    "    IQR = Q3-Q1\n",
    "    \n",
    "    df_filtered = df_copy[(Q1-1.5*IQR < df['calories']) & (Q3 + 1.5*IQR > df['calories'])]\n",
    "    \n",
    "    return df_filtered\n",
    "    "
   ]
  },
  {
   "cell_type": "code",
   "execution_count": 142,
   "metadata": {},
   "outputs": [
    {
     "data": {
      "text/html": [
       "<div>\n",
       "<style scoped>\n",
       "    .dataframe tbody tr th:only-of-type {\n",
       "        vertical-align: middle;\n",
       "    }\n",
       "\n",
       "    .dataframe tbody tr th {\n",
       "        vertical-align: top;\n",
       "    }\n",
       "\n",
       "    .dataframe thead th {\n",
       "        text-align: right;\n",
       "    }\n",
       "</style>\n",
       "<table border=\"1\" class=\"dataframe\">\n",
       "  <thead>\n",
       "    <tr style=\"text-align: right;\">\n",
       "      <th></th>\n",
       "      <th>name</th>\n",
       "      <th>n_steps</th>\n",
       "      <th>steps</th>\n",
       "      <th>n_ingredients</th>\n",
       "      <th>ingredients</th>\n",
       "      <th>minutes</th>\n",
       "      <th>calories</th>\n",
       "    </tr>\n",
       "  </thead>\n",
       "  <tbody>\n",
       "    <tr>\n",
       "      <th>0</th>\n",
       "      <td>1 brownies in the world    best ever</td>\n",
       "      <td>10</td>\n",
       "      <td>heat the oven to 350f and arrange the rack in ...</td>\n",
       "      <td>9</td>\n",
       "      <td>bittersweet chocolate unsalted butter eggs gra...</td>\n",
       "      <td>40.0</td>\n",
       "      <td>138.4</td>\n",
       "    </tr>\n",
       "    <tr>\n",
       "      <th>1</th>\n",
       "      <td>1 in canada chocolate chip cookies</td>\n",
       "      <td>12</td>\n",
       "      <td>pre-heat oven the 350 degrees f in a mixing bo...</td>\n",
       "      <td>11</td>\n",
       "      <td>white sugar brown sugar salt margarine eggs va...</td>\n",
       "      <td>45.0</td>\n",
       "      <td>595.1</td>\n",
       "    </tr>\n",
       "    <tr>\n",
       "      <th>2</th>\n",
       "      <td>412 broccoli casserole</td>\n",
       "      <td>6</td>\n",
       "      <td>preheat oven to 350 degrees spray a 2 quart ba...</td>\n",
       "      <td>9</td>\n",
       "      <td>frozen broccoli cuts cream of chicken soup sha...</td>\n",
       "      <td>40.0</td>\n",
       "      <td>194.8</td>\n",
       "    </tr>\n",
       "    <tr>\n",
       "      <th>3</th>\n",
       "      <td>millionaire pound cake</td>\n",
       "      <td>7</td>\n",
       "      <td>freheat the oven to 300 degrees grease a 10-in...</td>\n",
       "      <td>7</td>\n",
       "      <td>butter sugar eggs all-purpose flour whole milk...</td>\n",
       "      <td>120.0</td>\n",
       "      <td>878.3</td>\n",
       "    </tr>\n",
       "    <tr>\n",
       "      <th>4</th>\n",
       "      <td>2000 meatloaf</td>\n",
       "      <td>17</td>\n",
       "      <td>pan fry bacon and set aside on a paper towel t...</td>\n",
       "      <td>13</td>\n",
       "      <td>meatloaf mixture unsmoked bacon goat cheese un...</td>\n",
       "      <td>90.0</td>\n",
       "      <td>267.0</td>\n",
       "    </tr>\n",
       "  </tbody>\n",
       "</table>\n",
       "</div>"
      ],
      "text/plain": [
       "                                   name  n_steps  \\\n",
       "0  1 brownies in the world    best ever       10   \n",
       "1    1 in canada chocolate chip cookies       12   \n",
       "2                412 broccoli casserole        6   \n",
       "3                millionaire pound cake        7   \n",
       "4                         2000 meatloaf       17   \n",
       "\n",
       "                                               steps  n_ingredients  \\\n",
       "0  heat the oven to 350f and arrange the rack in ...              9   \n",
       "1  pre-heat oven the 350 degrees f in a mixing bo...             11   \n",
       "2  preheat oven to 350 degrees spray a 2 quart ba...              9   \n",
       "3  freheat the oven to 300 degrees grease a 10-in...              7   \n",
       "4  pan fry bacon and set aside on a paper towel t...             13   \n",
       "\n",
       "                                         ingredients  minutes  calories  \n",
       "0  bittersweet chocolate unsalted butter eggs gra...     40.0     138.4  \n",
       "1  white sugar brown sugar salt margarine eggs va...     45.0     595.1  \n",
       "2  frozen broccoli cuts cream of chicken soup sha...     40.0     194.8  \n",
       "3  butter sugar eggs all-purpose flour whole milk...    120.0     878.3  \n",
       "4  meatloaf mixture unsmoked bacon goat cheese un...     90.0     267.0  "
      ]
     },
     "execution_count": 142,
     "metadata": {},
     "output_type": "execute_result"
    }
   ],
   "source": [
    "recipes = pd.read_csv('RAW_recipes.csv')\n",
    "# interactions = pd.read_csv('./food_data/RAW_interactions.csv')\n",
    "df = recipes\n",
    "# df = pd.merge(interactions, recipes, left_on='recipe_id', right_on='id')\n",
    "food_data = df.copy(deep=True)[['name','n_steps', 'steps', 'n_ingredients', 'ingredients', 'nutrition', 'minutes']]\n",
    "food_data = transform_text(food_data, ['ingredients', 'steps'])\n",
    "food_data = transform_calories(food_data)\n",
    "food_data = IQR_filtering(food_data)\n",
    "food_data['minutes'] = food_data['minutes'].astype(np.float64)\n",
    "food_data.head()"
   ]
  },
  {
   "cell_type": "markdown",
   "metadata": {},
   "source": [
    "### Distribution of Numeric Features"
   ]
  },
  {
   "cell_type": "code",
   "execution_count": 143,
   "metadata": {},
   "outputs": [
    {
     "data": {
      "image/png": "[encoded data removed]",
      "text/plain": [
       "<Figure size 1000x500 with 2 Axes>"
      ]
     },
     "metadata": {},
     "output_type": "display_data"
    }
   ],
   "source": [
    "fig = plt.figure(figsize=(10,5))\n",
    "ax = fig.add_subplot(121)\n",
    "ax.hist(food_data['n_steps'], bins=15)\n",
    "ax.set_title('Distribution of # of Steps to Complete a Recipe')\n",
    "ax = fig.add_subplot(122)\n",
    "ax.hist(food_data['n_ingredients'], bins=15)\n",
    "ax.set_title('Distribution of # of Ingredients to Complete a Recipe')\n",
    "plt.show()"
   ]
  },
  {
   "cell_type": "markdown",
   "metadata": {},
   "source": [
    "### Baseline Model"
   ]
  },
  {
   "cell_type": "markdown",
   "metadata": {},
   "source": [
    "__Description__: As mentioned, I will be using **n_ingredients** and **n_steps** from the original dataset as initial features for my baseline model. While there are no categorical features so feature encoding will not be necessary here, there is no upper bound for the number of ingredients and number of steps since they are both <i>ordinal discrete</i> variables so some transformation might be required.\n",
    "\n",
    "\n",
    "__Feature Transformations__: First step of transformation was transforming the columns in a dataset with using *ColumnTransformer* with *FunctionTransformer(np.log)*and *MinMaxScaler()*.\n",
    "We transform data in *n_steps* and *n_ingredients* into log of its data in order to make them to resemble to normal distribution. Then, we normalized the values in two columns with using *MinMaxScaler()* so that they can have the same scale for better prediction. \n",
    "\n",
    "\n",
    "__Hyperparameters Used__: \n",
    "We used *GridSearchCV* to predict the ideal hyperparamters for criterion, max_depth of tree, and min_samples_plits.\n",
    "Initially we used hyperparatmers with broad range *(ex.clf__max_depth' : [1, 30, 50, 100, 200])*, and we minimized the range by running the GridSearch for several times. After Several times, we got to conclusion with ```{'clf__criterion': 'absolute_error','clf__max_depth': 10, 'clf__min_samples_split': 20}```\n",
    "\n",
    "After the *GridSearchCV*, we use the ideal parameters to train and test the data with *DecisionTreeRegressor* and fit the data after.\n",
    "\n",
    "\n",
    "__Performance of the model__:\n",
    "As we have have higher train mean absolute error than the test mean absolute error, we can tell that the data is underfitting ```(X_train = 98.6017887834999, X_test = 70.7474696839492)```. We also tried to fit the data with grid search and cross validation, and the gap distance between train data and test data did not get closed up. However, the gap between the train and test data are not too far off, and we can predict that there is no error for traing and testing regression. The possible reason for the slight gap between two might caused by our two features that we used for training and testing the regression are insufficient to explain the data and predict the minute."
   ]
  },
  {
   "cell_type": "code",
   "execution_count": 144,
   "metadata": {},
   "outputs": [],
   "source": [
    "### Helper Functions\n",
    "def rmse(actual, pred):\n",
    "    return np.sqrt(np.mean((actual - pred) ** 2))\n",
    "\n",
    "def normalized_rmse(y_true, y_pred):\n",
    "    rmse = np.sqrt(np.mean((y_true - y_pred) ** 2))\n",
    "    target_range = np.max(y_true) - np.min(y_true)\n",
    "    return rmse / target_range"
   ]
  },
  {
   "cell_type": "code",
   "execution_count": 145,
   "metadata": {},
   "outputs": [
    {
     "data": {
      "text/plain": [
       "((59127, 6), (19710, 6), (59127,), (19710,))"
      ]
     },
     "execution_count": 145,
     "metadata": {},
     "output_type": "execute_result"
    }
   ],
   "source": [
    "#train-test split, here I used the default of 75% train and 25% test\n",
    "X = food_data.drop('minutes', axis=1)\n",
    "y = food_data['minutes']\n",
    "X_train, X_test, y_train, y_test = train_test_split(X, y, random_state=42)\n",
    "X_train.shape, X_test.shape, y_train.shape, y_test.shape"
   ]
  },
  {
   "cell_type": "code",
   "execution_count": 146,
   "metadata": {},
   "outputs": [
    {
     "data": {
      "text/plain": [
       "(array([  545.,  1893.,  5689., 10614., 14570., 15147., 13376.,  8655.,\n",
       "         5329.,  3019.]),\n",
       " array([ 0.        ,  3.14594978,  6.29189955,  9.43784933, 12.58379911,\n",
       "        15.72974889, 18.87569866, 22.02164844, 25.16759822, 28.31354799,\n",
       "        31.45949777]),\n",
       " <BarContainer object of 10 artists>)"
      ]
     },
     "execution_count": 146,
     "metadata": {},
     "output_type": "execute_result"
    },
    {
     "data": {
      "image/png": "[encoded data removed]",
      "text/plain": [
       "<Figure size 640x480 with 1 Axes>"
      ]
     },
     "metadata": {},
     "output_type": "display_data"
    }
   ],
   "source": [
    "plt.hist(np.sqrt(food_data['calories']))"
   ]
  },
  {
   "cell_type": "code",
   "execution_count": 147,
   "metadata": {},
   "outputs": [
    {
     "data": {
      "image/png": "[encoded data removed]",
      "text/plain": [
       "<Figure size 1000x500 with 2 Axes>"
      ]
     },
     "metadata": {},
     "output_type": "display_data"
    }
   ],
   "source": [
    "### Visualization of the log-transformation to make distribution more \"normal\" or \"symmetrical\"\n",
    "fig = plt.figure(figsize=(10,5))\n",
    "ax = fig.add_subplot(121)\n",
    "ax.hist(np.log(food_data['n_steps']), bins=12)\n",
    "ax.set_title('Transformed Distribution of # of Steps')\n",
    "ax = fig.add_subplot(122)\n",
    "ax.hist(np.log(food_data['n_ingredients']), bins=12)\n",
    "ax.set_title('Transformed Distribution of # of Ingredients')\n",
    "plt.show()"
   ]
  },
  {
   "cell_type": "code",
   "execution_count": 148,
   "metadata": {},
   "outputs": [
    {
     "data": {
      "text/plain": [
       "10"
      ]
     },
     "execution_count": 148,
     "metadata": {},
     "output_type": "execute_result"
    }
   ],
   "source": [
    "import multiprocessing\n",
    "multiprocessing.cpu_count()"
   ]
  },
  {
   "cell_type": "code",
   "execution_count": 149,
   "metadata": {},
   "outputs": [
    {
     "data": {
      "text/html": [
       "<style>#sk-container-id-4 {color: black;}#sk-container-id-4 pre{padding: 0;}#sk-container-id-4 div.sk-toggleable {background-color: white;}#sk-container-id-4 label.sk-toggleable__label {cursor: pointer;display: block;width: 100%;margin-bottom: 0;padding: 0.3em;box-sizing: border-box;text-align: center;}#sk-container-id-4 label.sk-toggleable__label-arrow:before {content: \"▸\";float: left;margin-right: 0.25em;color: #696969;}#sk-container-id-4 label.sk-toggleable__label-arrow:hover:before {color: black;}#sk-container-id-4 div.sk-estimator:hover label.sk-toggleable__label-arrow:before {color: black;}#sk-container-id-4 div.sk-toggleable__content {max-height: 0;max-width: 0;overflow: hidden;text-align: left;background-color: #f0f8ff;}#sk-container-id-4 div.sk-toggleable__content pre {margin: 0.2em;color: black;border-radius: 0.25em;background-color: #f0f8ff;}#sk-container-id-4 input.sk-toggleable__control:checked~div.sk-toggleable__content {max-height: 200px;max-width: 100%;overflow: auto;}#sk-container-id-4 input.sk-toggleable__control:checked~label.sk-toggleable__label-arrow:before {content: \"▾\";}#sk-container-id-4 div.sk-estimator input.sk-toggleable__control:checked~label.sk-toggleable__label {background-color: #d4ebff;}#sk-container-id-4 div.sk-label input.sk-toggleable__control:checked~label.sk-toggleable__label {background-color: #d4ebff;}#sk-container-id-4 input.sk-hidden--visually {border: 0;clip: rect(1px 1px 1px 1px);clip: rect(1px, 1px, 1px, 1px);height: 1px;margin: -1px;overflow: hidden;padding: 0;position: absolute;width: 1px;}#sk-container-id-4 div.sk-estimator {font-family: monospace;background-color: #f0f8ff;border: 1px dotted black;border-radius: 0.25em;box-sizing: border-box;margin-bottom: 0.5em;}#sk-container-id-4 div.sk-estimator:hover {background-color: #d4ebff;}#sk-container-id-4 div.sk-parallel-item::after {content: \"\";width: 100%;border-bottom: 1px solid gray;flex-grow: 1;}#sk-container-id-4 div.sk-label:hover label.sk-toggleable__label {background-color: #d4ebff;}#sk-container-id-4 div.sk-serial::before {content: \"\";position: absolute;border-left: 1px solid gray;box-sizing: border-box;top: 0;bottom: 0;left: 50%;z-index: 0;}#sk-container-id-4 div.sk-serial {display: flex;flex-direction: column;align-items: center;background-color: white;padding-right: 0.2em;padding-left: 0.2em;position: relative;}#sk-container-id-4 div.sk-item {position: relative;z-index: 1;}#sk-container-id-4 div.sk-parallel {display: flex;align-items: stretch;justify-content: center;background-color: white;position: relative;}#sk-container-id-4 div.sk-item::before, #sk-container-id-4 div.sk-parallel-item::before {content: \"\";position: absolute;border-left: 1px solid gray;box-sizing: border-box;top: 0;bottom: 0;left: 50%;z-index: -1;}#sk-container-id-4 div.sk-parallel-item {display: flex;flex-direction: column;z-index: 1;position: relative;background-color: white;}#sk-container-id-4 div.sk-parallel-item:first-child::after {align-self: flex-end;width: 50%;}#sk-container-id-4 div.sk-parallel-item:last-child::after {align-self: flex-start;width: 50%;}#sk-container-id-4 div.sk-parallel-item:only-child::after {width: 0;}#sk-container-id-4 div.sk-dashed-wrapped {border: 1px dashed gray;margin: 0 0.4em 0.5em 0.4em;box-sizing: border-box;padding-bottom: 0.4em;background-color: white;}#sk-container-id-4 div.sk-label label {font-family: monospace;font-weight: bold;display: inline-block;line-height: 1.2em;}#sk-container-id-4 div.sk-label-container {text-align: center;}#sk-container-id-4 div.sk-container {/* jupyter's `normalize.less` sets `[hidden] { display: none; }` but bootstrap.min.css set `[hidden] { display: none !important; }` so we also need the `!important` here to be able to override the default hidden behavior on the sphinx rendered scikit-learn.org. See: https://github.com/scikit-learn/scikit-learn/issues/21755 */display: inline-block !important;position: relative;}#sk-container-id-4 div.sk-text-repr-fallback {display: none;}</style><div id=\"sk-container-id-4\" class=\"sk-top-container\"><div class=\"sk-text-repr-fallback\"><pre>Pipeline(steps=[(&#x27;column_transform&#x27;,\n",
       "                 ColumnTransformer(transformers=[(&#x27;log_transform&#x27;,\n",
       "                                                  FunctionTransformer(func=&lt;ufunc &#x27;log&#x27;&gt;),\n",
       "                                                  [&#x27;n_steps&#x27;, &#x27;n_ingredients&#x27;]),\n",
       "                                                 (&#x27;normalize&#x27;, MinMaxScaler(),\n",
       "                                                  [&#x27;n_steps&#x27;,\n",
       "                                                   &#x27;n_ingredients&#x27;])])),\n",
       "                (&#x27;clf&#x27;,\n",
       "                 DecisionTreeRegressor(criterion=&#x27;absolute_error&#x27;, max_depth=10,\n",
       "                                       min_samples_split=20,\n",
       "                                       random_state=42))])</pre><b>In a Jupyter environment, please rerun this cell to show the HTML representation or trust the notebook. <br />On GitHub, the HTML representation is unable to render, please try loading this page with nbviewer.org.</b></div><div class=\"sk-container\" hidden><div class=\"sk-item sk-dashed-wrapped\"><div class=\"sk-label-container\"><div class=\"sk-label sk-toggleable\"><input class=\"sk-toggleable__control sk-hidden--visually\" id=\"sk-estimator-id-26\" type=\"checkbox\" ><label for=\"sk-estimator-id-26\" class=\"sk-toggleable__label sk-toggleable__label-arrow\">Pipeline</label><div class=\"sk-toggleable__content\"><pre>Pipeline(steps=[(&#x27;column_transform&#x27;,\n",
       "                 ColumnTransformer(transformers=[(&#x27;log_transform&#x27;,\n",
       "                                                  FunctionTransformer(func=&lt;ufunc &#x27;log&#x27;&gt;),\n",
       "                                                  [&#x27;n_steps&#x27;, &#x27;n_ingredients&#x27;]),\n",
       "                                                 (&#x27;normalize&#x27;, MinMaxScaler(),\n",
       "                                                  [&#x27;n_steps&#x27;,\n",
       "                                                   &#x27;n_ingredients&#x27;])])),\n",
       "                (&#x27;clf&#x27;,\n",
       "                 DecisionTreeRegressor(criterion=&#x27;absolute_error&#x27;, max_depth=10,\n",
       "                                       min_samples_split=20,\n",
       "                                       random_state=42))])</pre></div></div></div><div class=\"sk-serial\"><div class=\"sk-item sk-dashed-wrapped\"><div class=\"sk-label-container\"><div class=\"sk-label sk-toggleable\"><input class=\"sk-toggleable__control sk-hidden--visually\" id=\"sk-estimator-id-27\" type=\"checkbox\" ><label for=\"sk-estimator-id-27\" class=\"sk-toggleable__label sk-toggleable__label-arrow\">column_transform: ColumnTransformer</label><div class=\"sk-toggleable__content\"><pre>ColumnTransformer(transformers=[(&#x27;log_transform&#x27;,\n",
       "                                 FunctionTransformer(func=&lt;ufunc &#x27;log&#x27;&gt;),\n",
       "                                 [&#x27;n_steps&#x27;, &#x27;n_ingredients&#x27;]),\n",
       "                                (&#x27;normalize&#x27;, MinMaxScaler(),\n",
       "                                 [&#x27;n_steps&#x27;, &#x27;n_ingredients&#x27;])])</pre></div></div></div><div class=\"sk-parallel\"><div class=\"sk-parallel-item\"><div class=\"sk-item\"><div class=\"sk-label-container\"><div class=\"sk-label sk-toggleable\"><input class=\"sk-toggleable__control sk-hidden--visually\" id=\"sk-estimator-id-28\" type=\"checkbox\" ><label for=\"sk-estimator-id-28\" class=\"sk-toggleable__label sk-toggleable__label-arrow\">log_transform</label><div class=\"sk-toggleable__content\"><pre>[&#x27;n_steps&#x27;, &#x27;n_ingredients&#x27;]</pre></div></div></div><div class=\"sk-serial\"><div class=\"sk-item\"><div class=\"sk-estimator sk-toggleable\"><input class=\"sk-toggleable__control sk-hidden--visually\" id=\"sk-estimator-id-29\" type=\"checkbox\" ><label for=\"sk-estimator-id-29\" class=\"sk-toggleable__label sk-toggleable__label-arrow\">FunctionTransformer</label><div class=\"sk-toggleable__content\"><pre>FunctionTransformer(func=&lt;ufunc &#x27;log&#x27;&gt;)</pre></div></div></div></div></div></div><div class=\"sk-parallel-item\"><div class=\"sk-item\"><div class=\"sk-label-container\"><div class=\"sk-label sk-toggleable\"><input class=\"sk-toggleable__control sk-hidden--visually\" id=\"sk-estimator-id-30\" type=\"checkbox\" ><label for=\"sk-estimator-id-30\" class=\"sk-toggleable__label sk-toggleable__label-arrow\">normalize</label><div class=\"sk-toggleable__content\"><pre>[&#x27;n_steps&#x27;, &#x27;n_ingredients&#x27;]</pre></div></div></div><div class=\"sk-serial\"><div class=\"sk-item\"><div class=\"sk-estimator sk-toggleable\"><input class=\"sk-toggleable__control sk-hidden--visually\" id=\"sk-estimator-id-31\" type=\"checkbox\" ><label for=\"sk-estimator-id-31\" class=\"sk-toggleable__label sk-toggleable__label-arrow\">MinMaxScaler</label><div class=\"sk-toggleable__content\"><pre>MinMaxScaler()</pre></div></div></div></div></div></div></div></div><div class=\"sk-item\"><div class=\"sk-estimator sk-toggleable\"><input class=\"sk-toggleable__control sk-hidden--visually\" id=\"sk-estimator-id-32\" type=\"checkbox\" ><label for=\"sk-estimator-id-32\" class=\"sk-toggleable__label sk-toggleable__label-arrow\">DecisionTreeRegressor</label><div class=\"sk-toggleable__content\"><pre>DecisionTreeRegressor(criterion=&#x27;absolute_error&#x27;, max_depth=10,\n",
       "                      min_samples_split=20, random_state=42)</pre></div></div></div></div></div></div></div>"
      ],
      "text/plain": [
       "Pipeline(steps=[('column_transform',\n",
       "                 ColumnTransformer(transformers=[('log_transform',\n",
       "                                                  FunctionTransformer(func=<ufunc 'log'>),\n",
       "                                                  ['n_steps', 'n_ingredients']),\n",
       "                                                 ('normalize', MinMaxScaler(),\n",
       "                                                  ['n_steps',\n",
       "                                                   'n_ingredients'])])),\n",
       "                ('clf',\n",
       "                 DecisionTreeRegressor(criterion='absolute_error', max_depth=10,\n",
       "                                       min_samples_split=20,\n",
       "                                       random_state=42))])"
      ]
     },
     "execution_count": 149,
     "metadata": {},
     "output_type": "execute_result"
    }
   ],
   "source": [
    "baseline = Pipeline(\n",
    "    [\n",
    "        ('column_transform', ColumnTransformer(\n",
    "            [\n",
    "                ('log_transform', FunctionTransformer(np.log), ['n_steps', 'n_ingredients']),\n",
    "                ('normalize', MinMaxScaler(), ['n_steps','n_ingredients'])\n",
    "            ], remainder='drop'\n",
    "        )),\n",
    "        ('clf', DecisionTreeRegressor(random_state=42, criterion = 'absolute_error', max_depth = 10, min_samples_split= 20))\n",
    "    ]\n",
    ")\n",
    "baseline.fit(X_train, y_train)\n",
    "# hyperparam_grid = {\n",
    "#     'clf__max_depth' : [2,3,5,10,25,50,100],\n",
    "#     'clf__criterion' : ['squared_error', 'friedman_mse', 'absolute_error', 'poisson'],\n",
    "#     'clf__min_samples_split' : [2,5,10,20,50,100,200]\n",
    "# }\n",
    "\n",
    "# gridsearch = GridSearchCV(baseline, hyperparam_grid, cv=5, verbose=1)\n",
    "# gridsearch.fit(X_train, y_train)"
   ]
  },
  {
   "cell_type": "code",
   "execution_count": 150,
   "metadata": {},
   "outputs": [
    {
     "data": {
      "text/plain": [
       "86.417660290561"
      ]
     },
     "execution_count": 150,
     "metadata": {},
     "output_type": "execute_result"
    }
   ],
   "source": [
    "mean_absolute_error(y_train, baseline.predict(X_train))"
   ]
  },
  {
   "cell_type": "code",
   "execution_count": 151,
   "metadata": {},
   "outputs": [
    {
     "data": {
      "text/plain": [
       "92.89571283612379"
      ]
     },
     "execution_count": 151,
     "metadata": {},
     "output_type": "execute_result"
    }
   ],
   "source": [
    "mean_absolute_error(y_test, baseline.predict(X_test))"
   ]
  },
  {
   "cell_type": "code",
   "execution_count": 152,
   "metadata": {},
   "outputs": [
    {
     "data": {
      "text/plain": [
       "3.1247547485232463"
      ]
     },
     "execution_count": 152,
     "metadata": {},
     "output_type": "execute_result"
    }
   ],
   "source": [
    "mean_absolute_percentage_error(baseline.predict(X_train), y_train)"
   ]
  },
  {
   "cell_type": "code",
   "execution_count": 153,
   "metadata": {},
   "outputs": [
    {
     "data": {
      "text/plain": [
       "3.36226235889115"
      ]
     },
     "execution_count": 153,
     "metadata": {},
     "output_type": "execute_result"
    }
   ],
   "source": [
    "mean_absolute_percentage_error(baseline.predict(X_test), y_test)"
   ]
  },
  {
   "cell_type": "code",
   "execution_count": 154,
   "metadata": {},
   "outputs": [
    {
     "data": {
      "text/plain": [
       "-0.00026516007366694794"
      ]
     },
     "execution_count": 154,
     "metadata": {},
     "output_type": "execute_result"
    }
   ],
   "source": [
    "baseline.score(X_train, y_train)"
   ]
  },
  {
   "cell_type": "code",
   "execution_count": 155,
   "metadata": {},
   "outputs": [
    {
     "data": {
      "text/plain": [
       "-0.0007828445554518559"
      ]
     },
     "execution_count": 155,
     "metadata": {},
     "output_type": "execute_result"
    }
   ],
   "source": [
    "#\n",
    "baseline.score(X_test, y_test)"
   ]
  },
  {
   "cell_type": "markdown",
   "metadata": {},
   "source": [
    "### Final Model"
   ]
  },
  {
   "cell_type": "markdown",
   "metadata": {},
   "source": [
    "To improve the final model, we incorporated two new features: **text length** feature and **TF-IDF** analysis feature.  \n",
    "\n",
    "__Feature Engineering__: \n",
    "\n",
    "Our final model incorporated two new features. First of all, we created a **'steps_length'** column by calculating the length of the text in the **'steps'** column, which can be a proxy for recipe complexity. We assumed that the longer texts describing the steps required for a reicipe, the more detailed or complex preparation processes it may indicate, potentially leading to longer cooking times. \n",
    "\n",
    "Secondly, we used TF-IDF Vectorization on the **'ingredients** column to transform the textual ingredient data into a structured format. This method will help in quantifying the uniqueness and importance of each ingredient in the context of the entire dataset. Ingredients that are unique or less common might be associated with more complex recipes, thus longer cooking times.\n",
    "\n",
    "__Model Building__: \n",
    "\n",
    "We used a more sophisticated model for this final model by incorporating RandomForestRegressor to capture more complex relationships in the data than a simple DecisionTreeRegressor. \n",
    "\n"
   ]
  },
  {
   "cell_type": "code",
   "execution_count": 156,
   "metadata": {
    "ExecuteTime": {
     "end_time": "2019-10-31T23:36:28.662099Z",
     "start_time": "2019-10-31T23:36:28.660016Z"
    }
   },
   "outputs": [],
   "source": [
    "# import pandas as pd\n",
    "# import numpy as np\n",
    "# from sklearn.model_selection import train_test_split, GridSearchCV\n",
    "# from sklearn.pipeline import Pipeline\n",
    "# from sklearn.compose import ColumnTransformer\n",
    "# from sklearn.preprocessing import FunctionTransformer, MinMaxScaler\n",
    "# from sklearn.feature_extraction.text import TfidfVectorizer\n",
    "# from sklearn.ensemble import RandomForestRegressor\n",
    "# from sklearn.metrics import mean_absolute_error"
   ]
  },
  {
   "cell_type": "code",
   "execution_count": 157,
   "metadata": {},
   "outputs": [],
   "source": [
    "def get_document_length(cols):\n",
    "    df_copy = pd.DataFrame(cols)\n",
    "    for col in df_copy.columns:\n",
    "        df_copy[col] = df_copy[col].apply(lambda x: len(x.split()))\n",
    "    return df_copy"
   ]
  },
  {
   "cell_type": "code",
   "execution_count": 158,
   "metadata": {},
   "outputs": [],
   "source": [
    "# New length feature for recipe steps\n",
    "# food_data = transform_text(food_data, ['ingredients', 'steps'])\n",
    "# food_data['steps_length'] = food_data['steps'].apply(len)"
   ]
  },
  {
   "cell_type": "code",
   "execution_count": 159,
   "metadata": {},
   "outputs": [
    {
     "data": {
      "text/plain": [
       "((59127, 5), (19710, 5), (59127,), (19710,))"
      ]
     },
     "execution_count": 159,
     "metadata": {},
     "output_type": "execute_result"
    }
   ],
   "source": [
    "#Data Preparation; Here, I used the default of 75% train and 25% test\n",
    "W = food_data[['n_steps', 'n_ingredients', 'ingredients', 'calories','steps']]\n",
    "z = food_data['minutes'].astype(np.float64)\n",
    "W_train, W_test, z_train, z_test = train_test_split(W, z, random_state=42)\n",
    "W_train.shape, W_test.shape, z_train.shape, z_test.shape"
   ]
  },
  {
   "cell_type": "code",
   "execution_count": 160,
   "metadata": {},
   "outputs": [
    {
     "data": {
      "text/plain": [
       "(array([  26.,   22.,   28.,   44.,   52.,   64.,   74.,   70.,   89.,\n",
       "          76.,  102.,  100.,  135.,  134.,  198.,  188.,  216.,  238.,\n",
       "         272.,  310.,  330.,  404.,  408.,  510.,  538.,  617.,  672.,\n",
       "         721.,  683.,  806.,  836.,  882.,  947.,  972., 1046., 1067.,\n",
       "        1078., 1207., 1289., 1290., 1374., 1390., 1367., 1445., 1420.,\n",
       "        1470., 1457., 1554., 1526., 1567., 1527., 1501., 1555., 1572.,\n",
       "        1594., 1496., 1439., 1542., 1512., 1409., 1502., 1543., 1482.,\n",
       "        1295., 1359., 1371., 1281., 1192., 1207., 1144., 1020.,  985.,\n",
       "         973.,  898.,  913.,  913.,  773.,  784.,  705.,  691.,  677.,\n",
       "         654.,  610.,  542.,  547.,  497.,  488.,  484.,  442.,  388.,\n",
       "         385.,  393.,  358.,  333.,  310.,  306.,  251.,  233.,  232.,\n",
       "         218.]),\n",
       " array([ 0.        ,  0.31459498,  0.62918996,  0.94378493,  1.25837991,\n",
       "         1.57297489,  1.88756987,  2.20216484,  2.51675982,  2.8313548 ,\n",
       "         3.14594978,  3.46054475,  3.77513973,  4.08973471,  4.40432969,\n",
       "         4.71892467,  5.03351964,  5.34811462,  5.6627096 ,  5.97730458,\n",
       "         6.29189955,  6.60649453,  6.92108951,  7.23568449,  7.55027947,\n",
       "         7.86487444,  8.17946942,  8.4940644 ,  8.80865938,  9.12325435,\n",
       "         9.43784933,  9.75244431, 10.06703929, 10.38163426, 10.69622924,\n",
       "        11.01082422, 11.3254192 , 11.64001418, 11.95460915, 12.26920413,\n",
       "        12.58379911, 12.89839409, 13.21298906, 13.52758404, 13.84217902,\n",
       "        14.156774  , 14.47136897, 14.78596395, 15.10055893, 15.41515391,\n",
       "        15.72974889, 16.04434386, 16.35893884, 16.67353382, 16.9881288 ,\n",
       "        17.30272377, 17.61731875, 17.93191373, 18.24650871, 18.56110368,\n",
       "        18.87569866, 19.19029364, 19.50488862, 19.8194836 , 20.13407857,\n",
       "        20.44867355, 20.76326853, 21.07786351, 21.39245848, 21.70705346,\n",
       "        22.02164844, 22.33624342, 22.6508384 , 22.96543337, 23.28002835,\n",
       "        23.59462333, 23.90921831, 24.22381328, 24.53840826, 24.85300324,\n",
       "        25.16759822, 25.48219319, 25.79678817, 26.11138315, 26.42597813,\n",
       "        26.74057311, 27.05516808, 27.36976306, 27.68435804, 27.99895302,\n",
       "        28.31354799, 28.62814297, 28.94273795, 29.25733293, 29.5719279 ,\n",
       "        29.88652288, 30.20111786, 30.51571284, 30.83030782, 31.14490279,\n",
       "        31.45949777]),\n",
       " <BarContainer object of 100 artists>)"
      ]
     },
     "execution_count": 160,
     "metadata": {},
     "output_type": "execute_result"
    },
    {
     "data": {
      "image/png": "[encoded data removed]",
      "text/plain": [
       "<Figure size 640x480 with 1 Axes>"
      ]
     },
     "metadata": {},
     "output_type": "display_data"
    }
   ],
   "source": [
    "plt.hist(np.sqrt(food_data['calories']), bins=100)"
   ]
  },
  {
   "cell_type": "code",
   "execution_count": 161,
   "metadata": {},
   "outputs": [],
   "source": [
    "#feature transformations\n",
    "column_trans = ColumnTransformer([\n",
    "        ('transform_ordinal', Pipeline(\n",
    "            [\n",
    "                ('log_transform', FunctionTransformer(np.log)),\n",
    "                ('normalize_ordinal', MinMaxScaler())\n",
    "            ]\n",
    "        ), ['n_steps', 'n_ingredients']),\n",
    "        ('transform_calories', Pipeline(\n",
    "            [\n",
    "                ('log_transform2', FunctionTransformer(np.sqrt)),\n",
    "                ('normalize_ordinal2', MinMaxScaler())\n",
    "            ]\n",
    "        ), ['calories']),\n",
    "        # ('transform_document_length', Pipeline(\n",
    "        #     [\n",
    "        #         ('get_document_length', FunctionTransformer(get_document_length)),\n",
    "        #         ('normalize_length', MinMaxScaler())\n",
    "        #     ]\n",
    "        # ), ['steps', 'ingredients']),\n",
    "        ('tfidf', TfidfVectorizer(stop_words='english', max_features=100), 'steps'),\n",
    "    ], remainder='drop')"
   ]
  },
  {
   "cell_type": "code",
   "execution_count": 162,
   "metadata": {},
   "outputs": [
    {
     "data": {
      "text/plain": [
       "(59127, 103)"
      ]
     },
     "execution_count": 162,
     "metadata": {},
     "output_type": "execute_result"
    }
   ],
   "source": [
    "column_trans.fit_transform(W_train).shape"
   ]
  },
  {
   "cell_type": "code",
   "execution_count": 163,
   "metadata": {},
   "outputs": [
    {
     "data": {
      "text/html": [
       "<style>#sk-container-id-5 {color: black;}#sk-container-id-5 pre{padding: 0;}#sk-container-id-5 div.sk-toggleable {background-color: white;}#sk-container-id-5 label.sk-toggleable__label {cursor: pointer;display: block;width: 100%;margin-bottom: 0;padding: 0.3em;box-sizing: border-box;text-align: center;}#sk-container-id-5 label.sk-toggleable__label-arrow:before {content: \"▸\";float: left;margin-right: 0.25em;color: #696969;}#sk-container-id-5 label.sk-toggleable__label-arrow:hover:before {color: black;}#sk-container-id-5 div.sk-estimator:hover label.sk-toggleable__label-arrow:before {color: black;}#sk-container-id-5 div.sk-toggleable__content {max-height: 0;max-width: 0;overflow: hidden;text-align: left;background-color: #f0f8ff;}#sk-container-id-5 div.sk-toggleable__content pre {margin: 0.2em;color: black;border-radius: 0.25em;background-color: #f0f8ff;}#sk-container-id-5 input.sk-toggleable__control:checked~div.sk-toggleable__content {max-height: 200px;max-width: 100%;overflow: auto;}#sk-container-id-5 input.sk-toggleable__control:checked~label.sk-toggleable__label-arrow:before {content: \"▾\";}#sk-container-id-5 div.sk-estimator input.sk-toggleable__control:checked~label.sk-toggleable__label {background-color: #d4ebff;}#sk-container-id-5 div.sk-label input.sk-toggleable__control:checked~label.sk-toggleable__label {background-color: #d4ebff;}#sk-container-id-5 input.sk-hidden--visually {border: 0;clip: rect(1px 1px 1px 1px);clip: rect(1px, 1px, 1px, 1px);height: 1px;margin: -1px;overflow: hidden;padding: 0;position: absolute;width: 1px;}#sk-container-id-5 div.sk-estimator {font-family: monospace;background-color: #f0f8ff;border: 1px dotted black;border-radius: 0.25em;box-sizing: border-box;margin-bottom: 0.5em;}#sk-container-id-5 div.sk-estimator:hover {background-color: #d4ebff;}#sk-container-id-5 div.sk-parallel-item::after {content: \"\";width: 100%;border-bottom: 1px solid gray;flex-grow: 1;}#sk-container-id-5 div.sk-label:hover label.sk-toggleable__label {background-color: #d4ebff;}#sk-container-id-5 div.sk-serial::before {content: \"\";position: absolute;border-left: 1px solid gray;box-sizing: border-box;top: 0;bottom: 0;left: 50%;z-index: 0;}#sk-container-id-5 div.sk-serial {display: flex;flex-direction: column;align-items: center;background-color: white;padding-right: 0.2em;padding-left: 0.2em;position: relative;}#sk-container-id-5 div.sk-item {position: relative;z-index: 1;}#sk-container-id-5 div.sk-parallel {display: flex;align-items: stretch;justify-content: center;background-color: white;position: relative;}#sk-container-id-5 div.sk-item::before, #sk-container-id-5 div.sk-parallel-item::before {content: \"\";position: absolute;border-left: 1px solid gray;box-sizing: border-box;top: 0;bottom: 0;left: 50%;z-index: -1;}#sk-container-id-5 div.sk-parallel-item {display: flex;flex-direction: column;z-index: 1;position: relative;background-color: white;}#sk-container-id-5 div.sk-parallel-item:first-child::after {align-self: flex-end;width: 50%;}#sk-container-id-5 div.sk-parallel-item:last-child::after {align-self: flex-start;width: 50%;}#sk-container-id-5 div.sk-parallel-item:only-child::after {width: 0;}#sk-container-id-5 div.sk-dashed-wrapped {border: 1px dashed gray;margin: 0 0.4em 0.5em 0.4em;box-sizing: border-box;padding-bottom: 0.4em;background-color: white;}#sk-container-id-5 div.sk-label label {font-family: monospace;font-weight: bold;display: inline-block;line-height: 1.2em;}#sk-container-id-5 div.sk-label-container {text-align: center;}#sk-container-id-5 div.sk-container {/* jupyter's `normalize.less` sets `[hidden] { display: none; }` but bootstrap.min.css set `[hidden] { display: none !important; }` so we also need the `!important` here to be able to override the default hidden behavior on the sphinx rendered scikit-learn.org. See: https://github.com/scikit-learn/scikit-learn/issues/21755 */display: inline-block !important;position: relative;}#sk-container-id-5 div.sk-text-repr-fallback {display: none;}</style><div id=\"sk-container-id-5\" class=\"sk-top-container\"><div class=\"sk-text-repr-fallback\"><pre>Pipeline(steps=[(&#x27;preprocessor&#x27;,\n",
       "                 ColumnTransformer(transformers=[(&#x27;transform_ordinal&#x27;,\n",
       "                                                  Pipeline(steps=[(&#x27;log_transform&#x27;,\n",
       "                                                                   FunctionTransformer(func=&lt;ufunc &#x27;log&#x27;&gt;)),\n",
       "                                                                  (&#x27;normalize_ordinal&#x27;,\n",
       "                                                                   MinMaxScaler())]),\n",
       "                                                  [&#x27;n_steps&#x27;, &#x27;n_ingredients&#x27;]),\n",
       "                                                 (&#x27;transform_calories&#x27;,\n",
       "                                                  Pipeline(steps=[(&#x27;log_transform2&#x27;,\n",
       "                                                                   FunctionTransformer(func=&lt;ufunc &#x27;sqrt&#x27;&gt;)),\n",
       "                                                                  (&#x27;normalize_ordinal2&#x27;,\n",
       "                                                                   MinMaxScaler())]),\n",
       "                                                  [&#x27;calories&#x27;]),\n",
       "                                                 (&#x27;tfidf&#x27;,\n",
       "                                                  TfidfVectorizer(max_features=100,\n",
       "                                                                  stop_words=&#x27;english&#x27;),\n",
       "                                                  &#x27;steps&#x27;)])),\n",
       "                (&#x27;model&#x27;,\n",
       "                 RandomForestRegressor(max_depth=6, min_samples_split=30,\n",
       "                                       random_state=42))])</pre><b>In a Jupyter environment, please rerun this cell to show the HTML representation or trust the notebook. <br />On GitHub, the HTML representation is unable to render, please try loading this page with nbviewer.org.</b></div><div class=\"sk-container\" hidden><div class=\"sk-item sk-dashed-wrapped\"><div class=\"sk-label-container\"><div class=\"sk-label sk-toggleable\"><input class=\"sk-toggleable__control sk-hidden--visually\" id=\"sk-estimator-id-33\" type=\"checkbox\" ><label for=\"sk-estimator-id-33\" class=\"sk-toggleable__label sk-toggleable__label-arrow\">Pipeline</label><div class=\"sk-toggleable__content\"><pre>Pipeline(steps=[(&#x27;preprocessor&#x27;,\n",
       "                 ColumnTransformer(transformers=[(&#x27;transform_ordinal&#x27;,\n",
       "                                                  Pipeline(steps=[(&#x27;log_transform&#x27;,\n",
       "                                                                   FunctionTransformer(func=&lt;ufunc &#x27;log&#x27;&gt;)),\n",
       "                                                                  (&#x27;normalize_ordinal&#x27;,\n",
       "                                                                   MinMaxScaler())]),\n",
       "                                                  [&#x27;n_steps&#x27;, &#x27;n_ingredients&#x27;]),\n",
       "                                                 (&#x27;transform_calories&#x27;,\n",
       "                                                  Pipeline(steps=[(&#x27;log_transform2&#x27;,\n",
       "                                                                   FunctionTransformer(func=&lt;ufunc &#x27;sqrt&#x27;&gt;)),\n",
       "                                                                  (&#x27;normalize_ordinal2&#x27;,\n",
       "                                                                   MinMaxScaler())]),\n",
       "                                                  [&#x27;calories&#x27;]),\n",
       "                                                 (&#x27;tfidf&#x27;,\n",
       "                                                  TfidfVectorizer(max_features=100,\n",
       "                                                                  stop_words=&#x27;english&#x27;),\n",
       "                                                  &#x27;steps&#x27;)])),\n",
       "                (&#x27;model&#x27;,\n",
       "                 RandomForestRegressor(max_depth=6, min_samples_split=30,\n",
       "                                       random_state=42))])</pre></div></div></div><div class=\"sk-serial\"><div class=\"sk-item sk-dashed-wrapped\"><div class=\"sk-label-container\"><div class=\"sk-label sk-toggleable\"><input class=\"sk-toggleable__control sk-hidden--visually\" id=\"sk-estimator-id-34\" type=\"checkbox\" ><label for=\"sk-estimator-id-34\" class=\"sk-toggleable__label sk-toggleable__label-arrow\">preprocessor: ColumnTransformer</label><div class=\"sk-toggleable__content\"><pre>ColumnTransformer(transformers=[(&#x27;transform_ordinal&#x27;,\n",
       "                                 Pipeline(steps=[(&#x27;log_transform&#x27;,\n",
       "                                                  FunctionTransformer(func=&lt;ufunc &#x27;log&#x27;&gt;)),\n",
       "                                                 (&#x27;normalize_ordinal&#x27;,\n",
       "                                                  MinMaxScaler())]),\n",
       "                                 [&#x27;n_steps&#x27;, &#x27;n_ingredients&#x27;]),\n",
       "                                (&#x27;transform_calories&#x27;,\n",
       "                                 Pipeline(steps=[(&#x27;log_transform2&#x27;,\n",
       "                                                  FunctionTransformer(func=&lt;ufunc &#x27;sqrt&#x27;&gt;)),\n",
       "                                                 (&#x27;normalize_ordinal2&#x27;,\n",
       "                                                  MinMaxScaler())]),\n",
       "                                 [&#x27;calories&#x27;]),\n",
       "                                (&#x27;tfidf&#x27;,\n",
       "                                 TfidfVectorizer(max_features=100,\n",
       "                                                 stop_words=&#x27;english&#x27;),\n",
       "                                 &#x27;steps&#x27;)])</pre></div></div></div><div class=\"sk-parallel\"><div class=\"sk-parallel-item\"><div class=\"sk-item\"><div class=\"sk-label-container\"><div class=\"sk-label sk-toggleable\"><input class=\"sk-toggleable__control sk-hidden--visually\" id=\"sk-estimator-id-35\" type=\"checkbox\" ><label for=\"sk-estimator-id-35\" class=\"sk-toggleable__label sk-toggleable__label-arrow\">transform_ordinal</label><div class=\"sk-toggleable__content\"><pre>[&#x27;n_steps&#x27;, &#x27;n_ingredients&#x27;]</pre></div></div></div><div class=\"sk-serial\"><div class=\"sk-item\"><div class=\"sk-serial\"><div class=\"sk-item\"><div class=\"sk-estimator sk-toggleable\"><input class=\"sk-toggleable__control sk-hidden--visually\" id=\"sk-estimator-id-36\" type=\"checkbox\" ><label for=\"sk-estimator-id-36\" class=\"sk-toggleable__label sk-toggleable__label-arrow\">FunctionTransformer</label><div class=\"sk-toggleable__content\"><pre>FunctionTransformer(func=&lt;ufunc &#x27;log&#x27;&gt;)</pre></div></div></div><div class=\"sk-item\"><div class=\"sk-estimator sk-toggleable\"><input class=\"sk-toggleable__control sk-hidden--visually\" id=\"sk-estimator-id-37\" type=\"checkbox\" ><label for=\"sk-estimator-id-37\" class=\"sk-toggleable__label sk-toggleable__label-arrow\">MinMaxScaler</label><div class=\"sk-toggleable__content\"><pre>MinMaxScaler()</pre></div></div></div></div></div></div></div></div><div class=\"sk-parallel-item\"><div class=\"sk-item\"><div class=\"sk-label-container\"><div class=\"sk-label sk-toggleable\"><input class=\"sk-toggleable__control sk-hidden--visually\" id=\"sk-estimator-id-38\" type=\"checkbox\" ><label for=\"sk-estimator-id-38\" class=\"sk-toggleable__label sk-toggleable__label-arrow\">transform_calories</label><div class=\"sk-toggleable__content\"><pre>[&#x27;calories&#x27;]</pre></div></div></div><div class=\"sk-serial\"><div class=\"sk-item\"><div class=\"sk-serial\"><div class=\"sk-item\"><div class=\"sk-estimator sk-toggleable\"><input class=\"sk-toggleable__control sk-hidden--visually\" id=\"sk-estimator-id-39\" type=\"checkbox\" ><label for=\"sk-estimator-id-39\" class=\"sk-toggleable__label sk-toggleable__label-arrow\">FunctionTransformer</label><div class=\"sk-toggleable__content\"><pre>FunctionTransformer(func=&lt;ufunc &#x27;sqrt&#x27;&gt;)</pre></div></div></div><div class=\"sk-item\"><div class=\"sk-estimator sk-toggleable\"><input class=\"sk-toggleable__control sk-hidden--visually\" id=\"sk-estimator-id-40\" type=\"checkbox\" ><label for=\"sk-estimator-id-40\" class=\"sk-toggleable__label sk-toggleable__label-arrow\">MinMaxScaler</label><div class=\"sk-toggleable__content\"><pre>MinMaxScaler()</pre></div></div></div></div></div></div></div></div><div class=\"sk-parallel-item\"><div class=\"sk-item\"><div class=\"sk-label-container\"><div class=\"sk-label sk-toggleable\"><input class=\"sk-toggleable__control sk-hidden--visually\" id=\"sk-estimator-id-41\" type=\"checkbox\" ><label for=\"sk-estimator-id-41\" class=\"sk-toggleable__label sk-toggleable__label-arrow\">tfidf</label><div class=\"sk-toggleable__content\"><pre>steps</pre></div></div></div><div class=\"sk-serial\"><div class=\"sk-item\"><div class=\"sk-estimator sk-toggleable\"><input class=\"sk-toggleable__control sk-hidden--visually\" id=\"sk-estimator-id-42\" type=\"checkbox\" ><label for=\"sk-estimator-id-42\" class=\"sk-toggleable__label sk-toggleable__label-arrow\">TfidfVectorizer</label><div class=\"sk-toggleable__content\"><pre>TfidfVectorizer(max_features=100, stop_words=&#x27;english&#x27;)</pre></div></div></div></div></div></div></div></div><div class=\"sk-item\"><div class=\"sk-estimator sk-toggleable\"><input class=\"sk-toggleable__control sk-hidden--visually\" id=\"sk-estimator-id-43\" type=\"checkbox\" ><label for=\"sk-estimator-id-43\" class=\"sk-toggleable__label sk-toggleable__label-arrow\">RandomForestRegressor</label><div class=\"sk-toggleable__content\"><pre>RandomForestRegressor(max_depth=6, min_samples_split=30, random_state=42)</pre></div></div></div></div></div></div></div>"
      ],
      "text/plain": [
       "Pipeline(steps=[('preprocessor',\n",
       "                 ColumnTransformer(transformers=[('transform_ordinal',\n",
       "                                                  Pipeline(steps=[('log_transform',\n",
       "                                                                   FunctionTransformer(func=<ufunc 'log'>)),\n",
       "                                                                  ('normalize_ordinal',\n",
       "                                                                   MinMaxScaler())]),\n",
       "                                                  ['n_steps', 'n_ingredients']),\n",
       "                                                 ('transform_calories',\n",
       "                                                  Pipeline(steps=[('log_transform2',\n",
       "                                                                   FunctionTransformer(func=<ufunc 'sqrt'>)),\n",
       "                                                                  ('normalize_ordinal2',\n",
       "                                                                   MinMaxScaler())]),\n",
       "                                                  ['calories']),\n",
       "                                                 ('tfidf',\n",
       "                                                  TfidfVectorizer(max_features=100,\n",
       "                                                                  stop_words='english'),\n",
       "                                                  'steps')])),\n",
       "                ('model',\n",
       "                 RandomForestRegressor(max_depth=6, min_samples_split=30,\n",
       "                                       random_state=42))])"
      ]
     },
     "execution_count": 163,
     "metadata": {},
     "output_type": "execute_result"
    }
   ],
   "source": [
    "# Define the pipeline\n",
    "final_pl = Pipeline([\n",
    "    ('preprocessor', column_trans),\n",
    "    ('model', RandomForestRegressor(random_state=42, criterion='squared_error',\n",
    "                                    max_depth=6, min_samples_split=30))\n",
    "])\n",
    "final_pl.fit(W_train, z_train)"
   ]
  },
  {
   "cell_type": "code",
   "execution_count": 164,
   "metadata": {},
   "outputs": [],
   "source": [
    "# # # param_grid = {\n",
    "# # #     'model__n_estimators': [100, 200, 500],\n",
    "# # #     'model__max_depth': [10, 20, 30, 50, 100],  # None means no limit on the depth of the tree\n",
    "# # #     'model__criterion': ['squared_error', 'absolute_error'],  # Criteria for splitting\n",
    "# # #     'model__min_samples_split': [2, 10, 15, 20, 50]  # Minimum number of samples required to split an internal node\n",
    "# # # }\n",
    "\n",
    "# param_grid = {\n",
    "#     'model__max_depth': [4, 5, 6],  # None means no limit on the depth of the tree\n",
    "#     'model__min_samples_split': [15, 30, 50]  # Minimum number of samples required to split an internal node\n",
    "# }\n",
    "\n",
    "# # # Grid search with cross-validation\n",
    "# grid_search = GridSearchCV(final_pl, param_grid, cv=5, verbose=5, n_jobs=3)\n",
    "# grid_search.fit(W_train, z_train)"
   ]
  },
  {
   "cell_type": "code",
   "execution_count": 165,
   "metadata": {},
   "outputs": [
    {
     "data": {
      "text/plain": [
       "90.87995849444408"
      ]
     },
     "execution_count": 165,
     "metadata": {},
     "output_type": "execute_result"
    }
   ],
   "source": [
    "mean_absolute_error(z_train, final_pl.predict(W_train))"
   ]
  },
  {
   "cell_type": "code",
   "execution_count": 166,
   "metadata": {},
   "outputs": [
    {
     "data": {
      "text/plain": [
       "115.9155515445313"
      ]
     },
     "execution_count": 166,
     "metadata": {},
     "output_type": "execute_result"
    }
   ],
   "source": [
    "mean_absolute_error(z_test, final_pl.predict(W_test))"
   ]
  },
  {
   "cell_type": "code",
   "execution_count": 167,
   "metadata": {},
   "outputs": [
    {
     "data": {
      "text/plain": [
       "0.7760466113090686"
      ]
     },
     "execution_count": 167,
     "metadata": {},
     "output_type": "execute_result"
    }
   ],
   "source": [
    "final_pl.score(W_train, z_train)"
   ]
  },
  {
   "cell_type": "markdown",
   "metadata": {},
   "source": [
    "## Fairness Analysis\n",
    "---\n",
    "For our fairness analysis, we asked the question, **\"does our final model perform better for recipes that take longer than an hour than it does for recipes that take 50 minutes or less?\"** To test this, we ran a permutation test by shuffling the minutes of **Group X** where recipes take *longer than 50 minutes* to make and **Group Y** where recipes take *50 minutes or less*. \n",
    "\n",
    "We chose **RMSE** as our evaluation metric as it provides a somewhat clear measure of the average error in our predictions with a regression model. \n",
    "\n",
    "- **Null Hypothesis**: The model's performance, as measured by RMSE, is the *same* for both Group X and Group Y. Any observed differences in RMSE between the two groups are due to random chance.\n",
    "\n",
    "- **Alternative Hypothesis**: The model's performance, as measured by RMSE, *differs* between Group X and Group Y. \n",
    "\n",
    "- **Test Statistic**: We used the *absolute difference in RMSE* between Group X and Group Y.\n",
    "  \n",
    "- **Significance Level**: 0.05\n",
    "\n",
    "To perform the permutation test, we calculated the inital RMSE for each group using the actual data. We then shuffled the `minutes` values between two groups, and the RMSEs are recalculated for these permuted groups. \n",
    "\n",
    "**Permutation Testing Result**:\n",
    "Our permutation test resulted in a p-value of **0.071**, which is *greater* than our significance level, 0.05. Therefore, we have a strong evidence to ***fail to reject*** the null hypothesis. This ***suggests*** that the model's performance is the same across the two groups: recipes that take longer than an hour and those that take 50 minutes or less. \n",
    "\n",
    "However, we can not be completely certain when drawing conclusions, therefore these findings merely indicate that our model is **reasonably fair based on the specific criteria and groups tested**; they do not represent a firm conclusion for entire unseen data. \n"
   ]
  },
  {
   "cell_type": "code",
   "execution_count": 168,
   "metadata": {
    "ExecuteTime": {
     "end_time": "2019-10-31T23:36:28.666489Z",
     "start_time": "2019-10-31T23:36:28.664381Z"
    }
   },
   "outputs": [],
   "source": [
    "def rmse(y_actual, y_pred):\n",
    "    return np.sqrt(mean_squared_error(y_actual, y_pred))"
   ]
  },
  {
   "cell_type": "code",
   "execution_count": 169,
   "metadata": {},
   "outputs": [],
   "source": [
    "predictions = final_pl.predict(W)\n",
    "\n",
    "group_x = food_data[food_data['minutes'] > 50].reset_index(drop=True)\n",
    "group_y = food_data[food_data['minutes'] <= 50].reset_index(drop=True)\n",
    "\n",
    "rmse_x_initial = rmse(group_x['minutes'], predictions[:len(group_x)])\n",
    "rmse_y_initial = rmse(group_y['minutes'], predictions[-len(group_y):])\n",
    "rmse_diff_initial = abs(rmse_x_initial - rmse_y_initial)\n"
   ]
  },
  {
   "cell_type": "code",
   "execution_count": 170,
   "metadata": {},
   "outputs": [
    {
     "name": "stdout",
     "output_type": "stream",
     "text": [
      "P-value: 0.059, Conclusion: Model is fair\n"
     ]
    }
   ],
   "source": [
    "n_permutations = 1000\n",
    "count = 0\n",
    "rmse_diffs_lst= []\n",
    "\n",
    "for _ in range(n_permutations):\n",
    "    # Permuting the minutes\n",
    "    all_min = np.concatenate((group_x['minutes'], group_y['minutes']))\n",
    "    np.random.shuffle(all_min)\n",
    "\n",
    "    # New groups after permutation\n",
    "    permuted_x = all_min[:len(group_x)]\n",
    "    permuted_y = all_min[len(group_x):]\n",
    "\n",
    "    # Recalculate RMSE for permuted groups\n",
    "    rmse_x_permuted = rmse(permuted_x, predictions[:len(group_x)])\n",
    "    rmse_y_permuted = rmse(permuted_y, predictions[-len(group_y):])\n",
    "    rmse_diff_permuted = abs(rmse_x_permuted - rmse_y_permuted)\n",
    "    rmse_diffs_lst.append(rmse_diff_permuted)\n",
    "\n",
    "    if rmse_diff_permuted >= rmse_diff_initial:\n",
    "        count += 1\n",
    "\n",
    "p_value = count / n_permutations\n",
    "\n",
    "if p_value < 0.05:\n",
    "    conclusion = \"unfair\"\n",
    "else:\n",
    "    conclusion = \"fair\"\n",
    "\n",
    "print(f\"P-value: {p_value}, Conclusion: Model is {conclusion}\")"
   ]
  },
  {
   "cell_type": "markdown",
   "metadata": {},
   "source": [
    "The histogram below offers a visualization of the RMSE differences obtained during the permutation iterations. The red vertical line indicates the *observed* RMSE difference. "
   ]
  },
  {
   "cell_type": "code",
   "execution_count": 171,
   "metadata": {},
   "outputs": [
    {
     "data": {
      "application/vnd.plotly.v1+json": {
       "config": {
        "plotlyServerURL": "https://plot.ly"
       },
       "data": [
        {
         "alignmentgroup": "True",
         "bingroup": "x",
         "hovertemplate": "variable=0<br>RMSE Difference=%{x}<br>count=%{y}<extra></extra>",
         "legendgroup": "0",
         "marker": {
          "color": "#636efa",
          "pattern": {
           "shape": ""
          }
         },
         "name": "0",
         "nbinsx": 30,
         "offsetgroup": "0",
         "orientation": "v",
         "showlegend": true,
         "type": "histogram",
         "x": [
          4004.9480627343523,
          3471.9659434702835,
          3462.7272411950476,
          3892.973061336452,
          2745.289938701461,
          4301.093903444937,
          3495.191831744068,
          3125.0059026911667,
          4550.1931113082,
          3373.5288547430177,
          4183.868320237642,
          3557.1877418221034,
          3528.6123810543436,
          3425.147468006742,
          4972.694881386974,
          3524.2996684805235,
          3604.124249954708,
          4793.665873777356,
          3500.79452167417,
          4292.605373958157,
          3493.188814642085,
          3500.333074513159,
          3529.817983165462,
          4421.215964588105,
          3210.457019910024,
          3846.3882271369753,
          2691.087589481628,
          3369.7445423216564,
          2665.6230030953557,
          4666.966934402595,
          2700.4559234007447,
          3969.08167703083,
          3467.439231807823,
          3363.2811556454085,
          4395.664321088867,
          4320.339535927624,
          4462.750299267561,
          4271.623853191252,
          3458.9231800842576,
          3598.1150497834315,
          3553.2492737298935,
          2688.782187291964,
          3512.2667007410814,
          4650.157104955939,
          3269.8366158144804,
          3214.306257357205,
          3484.3480995018253,
          3398.0872219548846,
          3160.9085920313732,
          3472.5630318520043,
          3372.53067494714,
          4322.474241619842,
          3364.299593352788,
          3927.0982602644467,
          3903.932873282564,
          4804.040430290647,
          4716.321412012237,
          4756.940264777638,
          4551.3325728767795,
          3441.927206850436,
          3180.4193079845604,
          2784.1528098735025,
          3428.8617625100287,
          3485.8337957193075,
          3401.358397130193,
          3969.426513909295,
          3447.1611845294524,
          3704.171114672851,
          4339.574707076913,
          3398.2373941811684,
          3272.445768251519,
          3248.329600938797,
          3126.459616743282,
          4001.952122445949,
          3312.1305543737135,
          3429.7814215374665,
          4550.673037748689,
          4796.401990235328,
          3508.187999803834,
          4192.866225573755,
          4068.5773498306685,
          3677.9895633218357,
          4377.404610205668,
          3495.2426773700495,
          4609.926533599486,
          4556.7779022235345,
          3406.262187297154,
          4901.787094293569,
          4215.044233147062,
          4342.186192368695,
          2745.244167759398,
          3469.8256747923165,
          4485.633525860794,
          3595.6545388457835,
          3954.5461520092285,
          4549.817817524944,
          3454.286324597193,
          3138.9873307523435,
          3849.5097584291298,
          3518.00636531898,
          4446.450988699977,
          3302.5533660636934,
          3401.9250267309794,
          4327.592992981694,
          2649.644660042346,
          3922.3681401354393,
          4474.848920334116,
          3556.9154332199887,
          3974.038827750058,
          3504.3055626265905,
          3441.412243993184,
          4549.06175006683,
          4314.59807299628,
          4635.454264246611,
          4404.486824780917,
          4534.880879143884,
          3483.277371247731,
          4187.1897547925255,
          4796.580813358624,
          3151.2466160671947,
          4101.045438304482,
          4623.308005324739,
          3847.553360506902,
          3462.3449250133294,
          4029.1859638682627,
          4560.002211145287,
          3473.5607743583455,
          3303.8097019440756,
          3249.2789488221606,
          4319.522650064691,
          4227.219156828686,
          3462.509171392772,
          4565.718185545619,
          3427.972548907879,
          4419.837455221985,
          4322.20665244667,
          3898.8943120822278,
          2680.7102933582114,
          4043.9865671424946,
          3419.199058193645,
          4338.968204070843,
          4438.940598801954,
          3477.620129397712,
          4548.932392623724,
          3374.63376858696,
          4851.2539970457865,
          3392.1485574601484,
          3165.688078711861,
          3467.5223083611927,
          3604.9812443886212,
          4433.482504170696,
          3672.3768222860353,
          4909.775394728191,
          3433.926569301515,
          4559.665704151042,
          4553.263900615799,
          3322.4827363482686,
          4637.517489482899,
          3873.038007340368,
          3295.5522620306333,
          4535.393189706197,
          4500.280192912946,
          3532.738047327227,
          3925.92098640141,
          4695.113589192535,
          3608.3394158405195,
          4283.820459433543,
          3517.587410056373,
          4233.950038855556,
          3552.091983028612,
          3572.211320821869,
          3911.5653457314975,
          3458.9766634323,
          4651.075967401237,
          4783.030020511062,
          4734.982536125548,
          4216.181732836414,
          2646.9546259398558,
          4712.684398965067,
          3517.522808583336,
          4666.208878539748,
          3961.7768708373305,
          3381.743375768452,
          3469.254208829707,
          3933.3999893154255,
          3156.6644038374684,
          3920.1112617016834,
          3938.5545678839394,
          4422.848056462684,
          4731.7647575137125,
          4398.448700774804,
          3296.4636237541886,
          2473.8613035256676,
          4801.319733346656,
          3363.692656897631,
          4700.620254280675,
          4746.886355559655,
          4239.281600516204,
          3274.853575117272,
          4822.0089270256485,
          4687.757554085676,
          3468.404177389905,
          3483.6559227813264,
          4085.877869715504,
          3082.161161237867,
          3159.3631398825105,
          4690.388956276165,
          4466.599598825322,
          4341.320448878889,
          4191.204023165737,
          3088.539004696678,
          3495.0809293620214,
          3665.8597996089934,
          3389.330479230245,
          4014.878046115604,
          4051.9448119271738,
          4561.912059268974,
          3464.4917435303005,
          4371.560892874741,
          3995.857124000382,
          4542.225133829122,
          3334.7079893570385,
          4026.5489823359185,
          3532.61724000752,
          4009.830068956918,
          4112.756933173449,
          3477.8885826419614,
          2449.934047807713,
          3938.9707420177856,
          3480.12130978036,
          3503.486164710296,
          4047.534737271035,
          3912.7359299151058,
          4280.900367180376,
          4558.154577896147,
          3845.7767749675854,
          4026.03144745153,
          3375.6984564696822,
          4314.027057745305,
          4617.571104827747,
          4816.832736447065,
          4623.912260214191,
          3495.2485661869964,
          3975.7558815364987,
          4373.508234910314,
          3463.388333778177,
          3495.8312248357843,
          4033.7226755006304,
          3633.2984546519624,
          3430.0641161518784,
          4058.6165902460257,
          2490.654072712825,
          4683.042708041584,
          3348.580115440985,
          3428.88079080628,
          3350.912723128816,
          3544.7104053131216,
          3447.9502399790035,
          4670.512345743589,
          3547.1563110093084,
          3944.8615380633073,
          4637.115534880288,
          4882.568565159211,
          3332.0061764711254,
          4461.714315444455,
          4623.644851949854,
          2678.430489585099,
          4354.710939202576,
          4705.821078473435,
          3284.104613804507,
          4034.911723546659,
          4556.011445990986,
          3400.9780315250737,
          4167.9494737071445,
          3443.857885177837,
          3593.100849477894,
          4741.956490466474,
          3620.822333157301,
          4344.595150834877,
          3683.3931451561084,
          3317.1329356543897,
          3629.2206805189553,
          4436.573649483389,
          4627.124531708504,
          4540.988807411736,
          3938.9154044112756,
          3461.95988147115,
          3658.856720455634,
          4705.585587830728,
          3586.3473669822506,
          3869.3146122826784,
          3221.610904813536,
          3295.7922171197265,
          3137.363799264721,
          3499.405160606425,
          4482.819934493843,
          3467.8828969084166,
          2748.6899947858055,
          3454.2908944999176,
          4492.703150213976,
          4083.741144870454,
          3495.6890198558153,
          3850.581486919392,
          4554.637599990494,
          3521.887669107963,
          3466.3097123187003,
          3552.4100584724533,
          4264.367560076888,
          4375.861086903682,
          3575.011440970269,
          3224.9864638547056,
          4471.559190397558,
          3451.731922319634,
          3433.4814827181985,
          2538.7634536113965,
          4606.153084759791,
          4410.823381604186,
          4637.421031241353,
          3951.4366267313753,
          3891.811019003826,
          3453.262367365593,
          4667.1789851905,
          4707.023782146577,
          3295.9316111480466,
          3439.9357613916454,
          4105.182116545258,
          3926.3380962306255,
          4732.778479837751,
          3861.5269457290833,
          4658.905122488934,
          3315.4826019944003,
          4711.823875153085,
          3309.3765578936013,
          2706.1486110732853,
          4495.137446449054,
          3230.459621780489,
          3889.3680407840966,
          3529.0884686656655,
          3982.925790108558,
          4377.771121170155,
          3600.7692865276867,
          3993.489539324118,
          3871.5072936552765,
          3593.430244767572,
          3519.5047395697143,
          3346.9668918717352,
          3530.7226006180144,
          4260.783472283468,
          2494.2426556939836,
          4358.083040244729,
          4236.212510164147,
          3575.034203726235,
          4572.110849609237,
          4003.7696040401283,
          3592.9799836898264,
          3927.653686350594,
          4874.587132027997,
          3466.6744822412875,
          3807.562624564167,
          4746.590897308921,
          4472.25256855532,
          3926.127539891364,
          4313.511186797182,
          4052.2240156778153,
          3353.2378994169267,
          3455.4333003511174,
          3465.553384096903,
          3424.558729832708,
          3605.9252288266193,
          4443.453310602887,
          4703.732749930917,
          3440.5511667499222,
          3463.8909842405915,
          2438.420154181078,
          3323.624644944565,
          3505.4307251937953,
          4169.2833505653325,
          3414.183709322504,
          4748.4758624401165,
          3472.3927689625916,
          3423.0733335493915,
          4471.987463647724,
          2576.555298874228,
          3454.639036026417,
          4541.257045565509,
          3897.7286062867342,
          3526.675622867654,
          3375.826296262159,
          3997.446762057872,
          4599.572626287687,
          2666.1091595936814,
          3210.125309343957,
          4296.510173992607,
          4735.462281611457,
          4555.401330726983,
          3462.766462578119,
          4515.7868260443165,
          3639.732143984498,
          4625.139366051314,
          3546.526723867187,
          4419.908264463298,
          4725.478234683581,
          3502.7161981775625,
          3981.03344271586,
          4456.618485261923,
          4340.167952190033,
          3965.2484440454405,
          4490.923172493551,
          3326.15031732134,
          3457.216315274272,
          4248.895174980202,
          4611.548549141251,
          3468.6501395459572,
          3905.193322962177,
          4345.828467695764,
          3436.221155476804,
          3930.8947993842075,
          4756.293910495598,
          3667.6909680536205,
          3398.729418370509,
          2563.2203416130183,
          4734.365006541249,
          4425.391152405324,
          3571.825986751596,
          4499.250326964342,
          3435.8169177730365,
          4747.2546785068735,
          3353.0115874041076,
          3370.100990701314,
          3499.5055696467416,
          4508.036750610898,
          3661.361867808023,
          3225.2677251756554,
          3450.9437345462075,
          4751.219604315906,
          4739.675032500601,
          3510.685138152384,
          3577.795766265512,
          4487.966502823088,
          3858.027692643535,
          3573.824915074782,
          4141.593593082342,
          4393.736701206208,
          3658.0834348171147,
          3528.3589927533326,
          3176.4552295745602,
          3846.6528468140004,
          3401.097117205227,
          3443.8150565653223,
          2786.4306954663134,
          3462.6392516606643,
          4578.702418464911,
          3446.495064880015,
          4592.344157702064,
          2612.0172335438233,
          3447.6903842529846,
          4336.823265293717,
          3493.191779398461,
          3955.4290474569584,
          2626.3298440464678,
          3465.603661747831,
          4673.35549122879,
          2716.5511071220985,
          2561.5747055746915,
          4420.441979089185,
          3521.9501812342387,
          4506.514630309457,
          4491.834975090228,
          3548.6335611835284,
          3184.484444673027,
          3932.044981102576,
          4529.791210169893,
          3373.719101583135,
          3531.9544340145135,
          4563.233668651013,
          2637.4139250025823,
          3932.99480501426,
          2491.1169942465017,
          3421.9953574430974,
          3290.6685502767273,
          4713.551935609931,
          4265.192225974421,
          4443.780701667485,
          3836.069733609254,
          4608.809470101249,
          4384.4706392172375,
          3961.208952440256,
          4148.7545428651465,
          3599.584465552886,
          4143.973675674653,
          3592.5073179085443,
          2651.73801363097,
          3512.0970675416356,
          4685.292016480021,
          4649.582933104355,
          3862.7148545887753,
          3408.916118971829,
          4596.607304209416,
          4067.8747971045136,
          4060.6601818593467,
          4339.209070511824,
          4102.859877224347,
          4742.556119620572,
          3269.8599637962266,
          3594.107454678072,
          3422.6075253610848,
          3150.6451280333627,
          3832.791740977836,
          3503.9826631334568,
          3461.237550509643,
          4057.9418085490925,
          4265.359724852058,
          4358.334830487397,
          3522.7947148251537,
          3955.774111747182,
          4803.232083180734,
          3391.113513620182,
          4567.552696290714,
          3470.087300854502,
          4759.8421276157305,
          2666.371750070125,
          3612.3126299018622,
          3547.2085856061462,
          4650.708602113443,
          4324.9849019992225,
          3482.32706548317,
          2464.0983603350473,
          4034.200068592705,
          3331.4889243278617,
          4277.344269864254,
          4832.887310094987,
          4369.186885715616,
          4627.864829299317,
          4457.019379551758,
          3354.918286781925,
          3140.3855068801463,
          3586.370462364098,
          4528.75248168096,
          3824.8356023109236,
          3528.4697110142765,
          3529.6627365729587,
          2543.637059102736,
          3445.807841255466,
          4339.536669863698,
          4305.170353990017,
          4803.013096062634,
          2623.7863066979335,
          3455.4531170916503,
          3337.5897317930694,
          4594.348574649822,
          3931.185427453523,
          3201.791050132471,
          3941.833683325037,
          4046.44396021673,
          3674.2196753759504,
          3528.4032141813723,
          3455.4616169494157,
          3355.011272070961,
          3559.9730378418744,
          3938.88778481642,
          3428.2696732579366,
          3409.421681561971,
          3891.28601131485,
          3333.8089504538593,
          4278.315495576386,
          3462.9893534344474,
          4344.133196411691,
          4775.731882373486,
          3515.366863257629,
          4334.964054507452,
          4373.751743523957,
          3489.406148198426,
          2541.0537457307373,
          3590.8984594468225,
          4418.995543973749,
          3508.375332011843,
          2721.886935216587,
          4399.605263475979,
          4808.173293222568,
          3414.9341929900033,
          3554.8519889533113,
          4829.513385560611,
          3474.5584888990106,
          3302.305705236399,
          4677.052911260589,
          4398.572654510891,
          3315.2632555945447,
          3473.755465797205,
          3617.020106278869,
          4679.458140753651,
          3883.6910854559806,
          4778.446451637174,
          3402.3681486525056,
          4717.4176610088925,
          4517.413944466113,
          3439.109032712361,
          3973.7223458596554,
          3260.974851867232,
          3418.2019894869313,
          3911.7088421823955,
          3550.06579778868,
          2635.8019711326297,
          2718.5217414757485,
          4581.731187684174,
          3376.132315556235,
          4306.6797065130695,
          3545.2960633567054,
          4166.59390746245,
          3558.6061167855582,
          3855.621159202621,
          4414.597845451741,
          4339.158367327748,
          4282.593263399717,
          3530.2535545725846,
          3866.1564834201076,
          3208.877195826806,
          4846.088042585536,
          3976.7901018397597,
          4538.513794589939,
          3427.3154145495196,
          4647.586792988642,
          3552.427192201518,
          4283.836673039488,
          4529.33628551494,
          3462.070104671988,
          4368.061259861251,
          4287.370485440122,
          3834.256422740033,
          3447.4794678389735,
          3926.351575994488,
          3517.9987222207196,
          3524.269715325057,
          4622.504748587889,
          3384.670351724999,
          2688.8615085462948,
          3569.94607820961,
          4462.650161025596,
          3472.9959869367417,
          3460.824230758137,
          3350.082726155587,
          4716.002099555059,
          4242.953781944785,
          4475.772851835694,
          3573.2938125903793,
          4649.911535164879,
          3518.427907831606,
          4290.126530998838,
          4777.80637473054,
          4596.108762596539,
          4622.910948763337,
          3418.0224490369446,
          4278.0188762512735,
          4262.6958002317415,
          3351.952180668692,
          4417.588493863235,
          4454.905524099842,
          3364.3711730700234,
          4042.619584760064,
          2564.6235485680268,
          3589.6246645034003,
          4828.542332438516,
          4591.560253102817,
          3329.5105077070857,
          3997.9086004258006,
          3399.3437341083873,
          3406.2982860790416,
          3504.559098436196,
          4290.734237155614,
          3453.538300051231,
          3455.3788465294206,
          3869.112133772332,
          2642.397153235703,
          4627.808598736505,
          3386.9115299473283,
          4374.035990365806,
          4351.135032799649,
          4715.56109187138,
          3475.6163074991678,
          3935.6443736279166,
          3438.878835020955,
          3998.832131068293,
          4340.408163506297,
          4566.623182321861,
          3481.6350369230445,
          4659.5928845822145,
          3474.0676367672395,
          3563.343675031928,
          3505.546219259787,
          3821.0941158858896,
          3603.956679974831,
          3954.7481005938926,
          4197.706062952908,
          2614.265309616887,
          3969.722312358203,
          4456.668724296938,
          4060.8678501730856,
          3578.5693340681073,
          3340.0783193503553,
          3412.5005051987273,
          3298.6814849281236,
          4118.612334954931,
          4285.052706071992,
          3230.8340259546612,
          4754.4265905859,
          4655.446767607797,
          3448.213348736991,
          3947.559764401911,
          3408.37851176592,
          3200.8346901870295,
          3581.8429383181574,
          4084.811586223962,
          4863.096639630847,
          4176.486677381898,
          4327.398012556498,
          3597.5087194613834,
          3525.5917391619214,
          3966.706631634993,
          4698.531173493076,
          3953.149908160566,
          3946.7625685554194,
          4108.155484905144,
          4513.984268577026,
          4666.673359326595,
          3422.0463067144374,
          4338.282547815475,
          3480.7463093653587,
          3565.688003913432,
          3374.6201282204124,
          3293.701639462415,
          3174.4595874229053,
          4010.540908824436,
          4843.307000108135,
          3176.986065598629,
          3587.54347064399,
          2611.806728077496,
          4712.398056446989,
          3942.6028011247186,
          3630.6432921599235,
          3186.3424825794887,
          3471.746347222207,
          4742.543036373302,
          3328.7543816549314,
          3540.257221082158,
          4443.014772634713,
          4703.532731271818,
          4484.55282532742,
          3388.5658311200727,
          3281.0814867001727,
          4606.396786298848,
          4022.3666590979738,
          4578.663611588514,
          3589.3082890509504,
          4567.858669313418,
          4332.357506654189,
          3483.5947174837706,
          4481.011306584223,
          4540.86297895257,
          3899.9057848081134,
          3417.746975125894,
          4977.630414107342,
          3480.9616475563935,
          4491.952677313873,
          3242.888895948833,
          3489.48296833295,
          3960.5059726836093,
          3622.4806474158677,
          4269.634498602023,
          3569.866446966696,
          3467.4548520076924,
          4363.538775491373,
          3689.79368126788,
          3571.6045067222362,
          4371.155009991062,
          4028.1153555287083,
          2751.7011806526934,
          4451.585187960508,
          4608.6156209986475,
          3341.805055714174,
          4035.690381347478,
          3196.577441638097,
          3622.2491814407235,
          3311.6295357249887,
          4455.73123607407,
          2462.7965746666246,
          3436.2121619807526,
          3135.865857865633,
          3494.3233084591034,
          3548.529912085696,
          3527.052371811239,
          4631.012150353632,
          4794.147540918027,
          3489.3932603748885,
          3443.831910141891,
          2612.1321727190084,
          3456.6006862298545,
          3891.8707185941366,
          3449.706214316559,
          4554.19534261435,
          4015.6918427158193,
          3616.6489805122014,
          3403.0784850148793,
          3576.030741809518,
          3280.919656948831,
          4027.9453886643823,
          4194.053722953842,
          4020.24090086319,
          4318.098763190835,
          3877.9580992752426,
          3468.266628468443,
          3845.2448233276436,
          4407.123697998395,
          3349.8689168191486,
          3513.6747261754936,
          4567.651032706653,
          3941.22613464142,
          4529.990993572893,
          3153.225284872577,
          3546.87457185684,
          4488.730222169711,
          2637.2198380001378,
          3639.812441716308,
          3371.1725093228492,
          2676.1225187022305,
          3589.0595290086476,
          3168.057454871793,
          4089.348286054832,
          4369.833379561618,
          3494.417910055242,
          3475.487553551705,
          4643.439728339816,
          4461.698103113489,
          4601.171596639088,
          3298.5606590934476,
          4598.224809946801,
          3436.240192424115,
          3837.772333353261,
          4529.183396475431,
          3453.983029260679,
          4553.904861586776,
          4497.37470392447,
          3565.979419044055,
          3415.0447842773665,
          4086.0903317153948,
          2729.4906197450227,
          3324.463184416042,
          3498.008277051086,
          3667.310544626921,
          3424.3088464032553,
          4528.21049180439,
          4591.272409620888,
          4460.582000927351,
          3673.1990193863085,
          3525.9711210302826,
          4392.859853646859,
          3341.2365494525516,
          4325.200412285401,
          3845.3297581619763,
          4358.332328329778,
          4704.974097166192,
          4206.438911986062,
          3993.9448189419163,
          3333.041041661066,
          4615.782509218537,
          3990.013742006364,
          4191.117491780563,
          3635.6245927163945,
          3474.230713188476,
          3545.9924480716004,
          3281.740696142283,
          4549.844563833322,
          3543.9581417810896,
          4039.923928396965,
          3417.8439249790263,
          3593.819265408033,
          3288.7219423040897,
          3366.250950970795,
          3845.330582438686,
          3509.3878544393992,
          2670.0547151552037,
          4660.414703265965,
          3314.660869151452,
          3379.6711791946186,
          4088.6202395953665,
          4532.5227022727595,
          3190.082069402046,
          4539.023583699542,
          3975.6857584320273,
          3156.8678385501066,
          3431.0265982698875,
          3506.4368928680246,
          4403.525716761177,
          2566.803428133412,
          3529.001035569405,
          3421.251360328816,
          3424.7980894948732,
          4435.709609889569,
          3471.3681913327373,
          4036.051933137268,
          3959.233555584576,
          2449.5062915388976,
          4496.749459868745,
          4362.93540060808,
          3373.9780573051744,
          3906.605920371894,
          3479.5992411323355,
          3639.5200929266857,
          4261.841133284913,
          3423.665844704353,
          3453.2869862820785,
          3309.213080836017,
          4618.395240955836,
          3423.124883144978,
          3408.4493624441925,
          3935.8004912681863,
          4440.100692374813,
          3565.6218690588,
          3448.3205851741723,
          4308.905707992759,
          3990.3954746573063,
          3489.6739379884325,
          3583.8339710649043,
          3439.3235793344365,
          4409.322106246425,
          4604.55204801178,
          4680.601955612562,
          3627.2504896541195,
          4498.204304643498,
          3402.648700164932,
          3210.1435646432637,
          3874.1504380816255,
          4206.3221980030385,
          3589.418403637257,
          4359.789857052765,
          3573.1410107541096,
          3618.4368016190533,
          4468.78838923862,
          3408.295568875683,
          2701.810395772814,
          3930.89810436616,
          3257.090335861952,
          4676.892423356163,
          3570.124984849387,
          3466.706548989152,
          4223.027871152445,
          4441.733244972782,
          3487.410630279958,
          4661.720387634907,
          2679.075064060832,
          3321.64266432445,
          4814.719884120837,
          3503.3885440168133,
          3472.005332035531,
          2506.25440944797,
          4683.107097627597,
          4443.872950492333,
          3851.5940642791356,
          2551.7201410048146,
          4984.242143952322,
          4544.210827689044,
          3576.7464658270746,
          3452.848974845462,
          3438.549612050315,
          4414.352593753655,
          2516.5852536432385,
          4447.536547293146,
          3075.819591317805,
          3077.6933067743844,
          4567.746704101346,
          3419.3590046775826,
          4413.920174786154,
          3459.3756582317897,
          4486.187240491663,
          4544.628946148659,
          4687.594414239239,
          4298.716043205221,
          3447.7681680986766,
          3453.2022958600382,
          4398.20901558345,
          4690.437466522514,
          3592.252665838539,
          4233.195790347022,
          3852.287323304161,
          3566.983678428968,
          3416.237018966348,
          4207.683183236544,
          3550.8491504244594,
          3365.666650762673,
          3879.6601576634644,
          4776.075217390596,
          3663.0809273045415,
          4720.50161972641,
          2668.74635744433,
          3486.6732596383226,
          3475.0572682526704,
          3204.870521360594,
          4491.361356290587,
          3486.275504486657,
          3474.562785180456,
          4027.131412713794,
          4326.892112745378
         ],
         "xaxis": "x",
         "yaxis": "y"
        }
       ],
       "layout": {
        "annotations": [
         {
          "showarrow": false,
          "text": "Observed RMSE Difference",
          "x": 4707.175563901432,
          "xanchor": "left",
          "xref": "x",
          "y": 1,
          "yanchor": "top",
          "yref": "y domain"
         }
        ],
        "barmode": "relative",
        "legend": {
         "title": {
          "text": "variable"
         },
         "tracegroupgap": 0
        },
        "shapes": [
         {
          "line": {
           "color": "red",
           "width": 2
          },
          "type": "line",
          "x0": 4707.175563901432,
          "x1": 4707.175563901432,
          "xref": "x",
          "y0": 0,
          "y1": 1,
          "yref": "y domain"
         }
        ],
        "template": {
         "data": {
          "bar": [
           {
            "error_x": {
             "color": "#2a3f5f"
            },
            "error_y": {
             "color": "#2a3f5f"
            },
            "marker": {
             "line": {
              "color": "#E5ECF6",
              "width": 0.5
             },
             "pattern": {
              "fillmode": "overlay",
              "size": 10,
              "solidity": 0.2
             }
            },
            "type": "bar"
           }
          ],
          "barpolar": [
           {
            "marker": {
             "line": {
              "color": "#E5ECF6",
              "width": 0.5
             },
             "pattern": {
              "fillmode": "overlay",
              "size": 10,
              "solidity": 0.2
             }
            },
            "type": "barpolar"
           }
          ],
          "carpet": [
           {
            "aaxis": {
             "endlinecolor": "#2a3f5f",
             "gridcolor": "white",
             "linecolor": "white",
             "minorgridcolor": "white",
             "startlinecolor": "#2a3f5f"
            },
            "baxis": {
             "endlinecolor": "#2a3f5f",
             "gridcolor": "white",
             "linecolor": "white",
             "minorgridcolor": "white",
             "startlinecolor": "#2a3f5f"
            },
            "type": "carpet"
           }
          ],
          "choropleth": [
           {
            "colorbar": {
             "outlinewidth": 0,
             "ticks": ""
            },
            "type": "choropleth"
           }
          ],
          "contour": [
           {
            "colorbar": {
             "outlinewidth": 0,
             "ticks": ""
            },
            "colorscale": [
             [
              0,
              "#0d0887"
             ],
             [
              0.1111111111111111,
              "#46039f"
             ],
             [
              0.2222222222222222,
              "#7201a8"
             ],
             [
              0.3333333333333333,
              "#9c179e"
             ],
             [
              0.4444444444444444,
              "#bd3786"
             ],
             [
              0.5555555555555556,
              "#d8576b"
             ],
             [
              0.6666666666666666,
              "#ed7953"
             ],
             [
              0.7777777777777778,
              "#fb9f3a"
             ],
             [
              0.8888888888888888,
              "#fdca26"
             ],
             [
              1,
              "#f0f921"
             ]
            ],
            "type": "contour"
           }
          ],
          "contourcarpet": [
           {
            "colorbar": {
             "outlinewidth": 0,
             "ticks": ""
            },
            "type": "contourcarpet"
           }
          ],
          "heatmap": [
           {
            "colorbar": {
             "outlinewidth": 0,
             "ticks": ""
            },
            "colorscale": [
             [
              0,
              "#0d0887"
             ],
             [
              0.1111111111111111,
              "#46039f"
             ],
             [
              0.2222222222222222,
              "#7201a8"
             ],
             [
              0.3333333333333333,
              "#9c179e"
             ],
             [
              0.4444444444444444,
              "#bd3786"
             ],
             [
              0.5555555555555556,
              "#d8576b"
             ],
             [
              0.6666666666666666,
              "#ed7953"
             ],
             [
              0.7777777777777778,
              "#fb9f3a"
             ],
             [
              0.8888888888888888,
              "#fdca26"
             ],
             [
              1,
              "#f0f921"
             ]
            ],
            "type": "heatmap"
           }
          ],
          "heatmapgl": [
           {
            "colorbar": {
             "outlinewidth": 0,
             "ticks": ""
            },
            "colorscale": [
             [
              0,
              "#0d0887"
             ],
             [
              0.1111111111111111,
              "#46039f"
             ],
             [
              0.2222222222222222,
              "#7201a8"
             ],
             [
              0.3333333333333333,
              "#9c179e"
             ],
             [
              0.4444444444444444,
              "#bd3786"
             ],
             [
              0.5555555555555556,
              "#d8576b"
             ],
             [
              0.6666666666666666,
              "#ed7953"
             ],
             [
              0.7777777777777778,
              "#fb9f3a"
             ],
             [
              0.8888888888888888,
              "#fdca26"
             ],
             [
              1,
              "#f0f921"
             ]
            ],
            "type": "heatmapgl"
           }
          ],
          "histogram": [
           {
            "marker": {
             "pattern": {
              "fillmode": "overlay",
              "size": 10,
              "solidity": 0.2
             }
            },
            "type": "histogram"
           }
          ],
          "histogram2d": [
           {
            "colorbar": {
             "outlinewidth": 0,
             "ticks": ""
            },
            "colorscale": [
             [
              0,
              "#0d0887"
             ],
             [
              0.1111111111111111,
              "#46039f"
             ],
             [
              0.2222222222222222,
              "#7201a8"
             ],
             [
              0.3333333333333333,
              "#9c179e"
             ],
             [
              0.4444444444444444,
              "#bd3786"
             ],
             [
              0.5555555555555556,
              "#d8576b"
             ],
             [
              0.6666666666666666,
              "#ed7953"
             ],
             [
              0.7777777777777778,
              "#fb9f3a"
             ],
             [
              0.8888888888888888,
              "#fdca26"
             ],
             [
              1,
              "#f0f921"
             ]
            ],
            "type": "histogram2d"
           }
          ],
          "histogram2dcontour": [
           {
            "colorbar": {
             "outlinewidth": 0,
             "ticks": ""
            },
            "colorscale": [
             [
              0,
              "#0d0887"
             ],
             [
              0.1111111111111111,
              "#46039f"
             ],
             [
              0.2222222222222222,
              "#7201a8"
             ],
             [
              0.3333333333333333,
              "#9c179e"
             ],
             [
              0.4444444444444444,
              "#bd3786"
             ],
             [
              0.5555555555555556,
              "#d8576b"
             ],
             [
              0.6666666666666666,
              "#ed7953"
             ],
             [
              0.7777777777777778,
              "#fb9f3a"
             ],
             [
              0.8888888888888888,
              "#fdca26"
             ],
             [
              1,
              "#f0f921"
             ]
            ],
            "type": "histogram2dcontour"
           }
          ],
          "mesh3d": [
           {
            "colorbar": {
             "outlinewidth": 0,
             "ticks": ""
            },
            "type": "mesh3d"
           }
          ],
          "parcoords": [
           {
            "line": {
             "colorbar": {
              "outlinewidth": 0,
              "ticks": ""
             }
            },
            "type": "parcoords"
           }
          ],
          "pie": [
           {
            "automargin": true,
            "type": "pie"
           }
          ],
          "scatter": [
           {
            "fillpattern": {
             "fillmode": "overlay",
             "size": 10,
             "solidity": 0.2
            },
            "type": "scatter"
           }
          ],
          "scatter3d": [
           {
            "line": {
             "colorbar": {
              "outlinewidth": 0,
              "ticks": ""
             }
            },
            "marker": {
             "colorbar": {
              "outlinewidth": 0,
              "ticks": ""
             }
            },
            "type": "scatter3d"
           }
          ],
          "scattercarpet": [
           {
            "marker": {
             "colorbar": {
              "outlinewidth": 0,
              "ticks": ""
             }
            },
            "type": "scattercarpet"
           }
          ],
          "scattergeo": [
           {
            "marker": {
             "colorbar": {
              "outlinewidth": 0,
              "ticks": ""
             }
            },
            "type": "scattergeo"
           }
          ],
          "scattergl": [
           {
            "marker": {
             "colorbar": {
              "outlinewidth": 0,
              "ticks": ""
             }
            },
            "type": "scattergl"
           }
          ],
          "scattermapbox": [
           {
            "marker": {
             "colorbar": {
              "outlinewidth": 0,
              "ticks": ""
             }
            },
            "type": "scattermapbox"
           }
          ],
          "scatterpolar": [
           {
            "marker": {
             "colorbar": {
              "outlinewidth": 0,
              "ticks": ""
             }
            },
            "type": "scatterpolar"
           }
          ],
          "scatterpolargl": [
           {
            "marker": {
             "colorbar": {
              "outlinewidth": 0,
              "ticks": ""
             }
            },
            "type": "scatterpolargl"
           }
          ],
          "scatterternary": [
           {
            "marker": {
             "colorbar": {
              "outlinewidth": 0,
              "ticks": ""
             }
            },
            "type": "scatterternary"
           }
          ],
          "surface": [
           {
            "colorbar": {
             "outlinewidth": 0,
             "ticks": ""
            },
            "colorscale": [
             [
              0,
              "#0d0887"
             ],
             [
              0.1111111111111111,
              "#46039f"
             ],
             [
              0.2222222222222222,
              "#7201a8"
             ],
             [
              0.3333333333333333,
              "#9c179e"
             ],
             [
              0.4444444444444444,
              "#bd3786"
             ],
             [
              0.5555555555555556,
              "#d8576b"
             ],
             [
              0.6666666666666666,
              "#ed7953"
             ],
             [
              0.7777777777777778,
              "#fb9f3a"
             ],
             [
              0.8888888888888888,
              "#fdca26"
             ],
             [
              1,
              "#f0f921"
             ]
            ],
            "type": "surface"
           }
          ],
          "table": [
           {
            "cells": {
             "fill": {
              "color": "#EBF0F8"
             },
             "line": {
              "color": "white"
             }
            },
            "header": {
             "fill": {
              "color": "#C8D4E3"
             },
             "line": {
              "color": "white"
             }
            },
            "type": "table"
           }
          ]
         },
         "layout": {
          "annotationdefaults": {
           "arrowcolor": "#2a3f5f",
           "arrowhead": 0,
           "arrowwidth": 1
          },
          "autotypenumbers": "strict",
          "coloraxis": {
           "colorbar": {
            "outlinewidth": 0,
            "ticks": ""
           }
          },
          "colorscale": {
           "diverging": [
            [
             0,
             "#8e0152"
            ],
            [
             0.1,
             "#c51b7d"
            ],
            [
             0.2,
             "#de77ae"
            ],
            [
             0.3,
             "#f1b6da"
            ],
            [
             0.4,
             "#fde0ef"
            ],
            [
             0.5,
             "#f7f7f7"
            ],
            [
             0.6,
             "#e6f5d0"
            ],
            [
             0.7,
             "#b8e186"
            ],
            [
             0.8,
             "#7fbc41"
            ],
            [
             0.9,
             "#4d9221"
            ],
            [
             1,
             "#276419"
            ]
           ],
           "sequential": [
            [
             0,
             "#0d0887"
            ],
            [
             0.1111111111111111,
             "#46039f"
            ],
            [
             0.2222222222222222,
             "#7201a8"
            ],
            [
             0.3333333333333333,
             "#9c179e"
            ],
            [
             0.4444444444444444,
             "#bd3786"
            ],
            [
             0.5555555555555556,
             "#d8576b"
            ],
            [
             0.6666666666666666,
             "#ed7953"
            ],
            [
             0.7777777777777778,
             "#fb9f3a"
            ],
            [
             0.8888888888888888,
             "#fdca26"
            ],
            [
             1,
             "#f0f921"
            ]
           ],
           "sequentialminus": [
            [
             0,
             "#0d0887"
            ],
            [
             0.1111111111111111,
             "#46039f"
            ],
            [
             0.2222222222222222,
             "#7201a8"
            ],
            [
             0.3333333333333333,
             "#9c179e"
            ],
            [
             0.4444444444444444,
             "#bd3786"
            ],
            [
             0.5555555555555556,
             "#d8576b"
            ],
            [
             0.6666666666666666,
             "#ed7953"
            ],
            [
             0.7777777777777778,
             "#fb9f3a"
            ],
            [
             0.8888888888888888,
             "#fdca26"
            ],
            [
             1,
             "#f0f921"
            ]
           ]
          },
          "colorway": [
           "#636efa",
           "#EF553B",
           "#00cc96",
           "#ab63fa",
           "#FFA15A",
           "#19d3f3",
           "#FF6692",
           "#B6E880",
           "#FF97FF",
           "#FECB52"
          ],
          "font": {
           "color": "#2a3f5f"
          },
          "geo": {
           "bgcolor": "white",
           "lakecolor": "white",
           "landcolor": "#E5ECF6",
           "showlakes": true,
           "showland": true,
           "subunitcolor": "white"
          },
          "hoverlabel": {
           "align": "left"
          },
          "hovermode": "closest",
          "mapbox": {
           "style": "light"
          },
          "paper_bgcolor": "white",
          "plot_bgcolor": "#E5ECF6",
          "polar": {
           "angularaxis": {
            "gridcolor": "white",
            "linecolor": "white",
            "ticks": ""
           },
           "bgcolor": "#E5ECF6",
           "radialaxis": {
            "gridcolor": "white",
            "linecolor": "white",
            "ticks": ""
           }
          },
          "scene": {
           "xaxis": {
            "backgroundcolor": "#E5ECF6",
            "gridcolor": "white",
            "gridwidth": 2,
            "linecolor": "white",
            "showbackground": true,
            "ticks": "",
            "zerolinecolor": "white"
           },
           "yaxis": {
            "backgroundcolor": "#E5ECF6",
            "gridcolor": "white",
            "gridwidth": 2,
            "linecolor": "white",
            "showbackground": true,
            "ticks": "",
            "zerolinecolor": "white"
           },
           "zaxis": {
            "backgroundcolor": "#E5ECF6",
            "gridcolor": "white",
            "gridwidth": 2,
            "linecolor": "white",
            "showbackground": true,
            "ticks": "",
            "zerolinecolor": "white"
           }
          },
          "shapedefaults": {
           "line": {
            "color": "#2a3f5f"
           }
          },
          "ternary": {
           "aaxis": {
            "gridcolor": "white",
            "linecolor": "white",
            "ticks": ""
           },
           "baxis": {
            "gridcolor": "white",
            "linecolor": "white",
            "ticks": ""
           },
           "bgcolor": "#E5ECF6",
           "caxis": {
            "gridcolor": "white",
            "linecolor": "white",
            "ticks": ""
           }
          },
          "title": {
           "x": 0.05
          },
          "xaxis": {
           "automargin": true,
           "gridcolor": "white",
           "linecolor": "white",
           "ticks": "",
           "title": {
            "standoff": 15
           },
           "zerolinecolor": "white",
           "zerolinewidth": 2
          },
          "yaxis": {
           "automargin": true,
           "gridcolor": "white",
           "linecolor": "white",
           "ticks": "",
           "title": {
            "standoff": 15
           },
           "zerolinecolor": "white",
           "zerolinewidth": 2
          }
         }
        },
        "title": {
         "text": "Permutation Test RMSE Differences"
        },
        "xaxis": {
         "anchor": "y",
         "domain": [
          0,
          1
         ],
         "title": {
          "text": "RMSE Difference"
         }
        },
        "yaxis": {
         "anchor": "x",
         "domain": [
          0,
          1
         ],
         "title": {
          "text": "count"
         }
        }
       }
      }
     },
     "metadata": {},
     "output_type": "display_data"
    }
   ],
   "source": [
    "fig_perm = px.histogram(rmse_diffs_lst, nbins=30, labels={'value': 'RMSE Difference'}, title='Permutation Test RMSE Differences')\n",
    "fig_perm.add_vline(x=rmse_diff_initial, line_width=2, line_color=\"red\", annotation_text=\"Observed RMSE Difference\")\n",
    "fig_perm.show()"
   ]
  },
  {
   "cell_type": "code",
   "execution_count": 172,
   "metadata": {},
   "outputs": [],
   "source": [
    "fig_perm.write_html('fig_perm.html', include_plotlyjs='cdn')"
   ]
  },
  {
   "cell_type": "code",
   "execution_count": null,
   "metadata": {},
   "outputs": [],
   "source": []
  }
 ],
 "metadata": {
  "kernelspec": {
   "display_name": "Python 3 (ipykernel)",
   "language": "python",
   "name": "python3"
  },
  "language_info": {
   "codemirror_mode": {
    "name": "ipython",
    "version": 3
   },
   "file_extension": ".py",
   "mimetype": "text/x-python",
   "name": "python",
   "nbconvert_exporter": "python",
   "pygments_lexer": "ipython3",
   "version": "3.11.5"
  }
 },
 "nbformat": 4,
 "nbformat_minor": 2
}
